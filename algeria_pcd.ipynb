{
  "cells": [
    {
      "cell_type": "markdown",
      "metadata": {},
      "source": [
        "# Proximity, coverage and demand analysis"
      ]
    },
    {
      "cell_type": "markdown",
      "metadata": {
        "id": "ErL06KLX0ECA"
      },
      "source": [
        "## Setting up our environment"
      ]
    },
    {
      "cell_type": "markdown",
      "metadata": {},
      "source": [
        "We begin by importing Python libraries that will help us analyze school connectivity needs:\n",
        "\n",
        "- Data handling tools for working with spreadsheets and numbers (pandas, numpy)\n",
        "- Geographic tools for working with maps and locations (geopandas, scipy)\n",
        "- Visualization libraries to create graphs and maps (matplotlib, seaborn)\n",
        "\n",
        "These tools will help us understand where schools are located and how to connect them to the internet."
      ]
    },
    {
      "cell_type": "code",
      "execution_count": 43,
      "metadata": {
        "colab": {
          "base_uri": "https://localhost:8080/"
        },
        "collapsed": true,
        "id": "PMWtGYcd6QMI",
        "outputId": "1ad6e197-40d8-43b4-faa1-ca7ef5391eff"
      },
      "outputs": [],
      "source": [
        "# !pip install fiona shapely pyproj rtree geopandas plotly pycountry networkx"
      ]
    },
    {
      "cell_type": "code",
      "execution_count": 44,
      "metadata": {
        "id": "DPsJKb-J0GsT"
      },
      "outputs": [],
      "source": [
        "# Data handling\n",
        "import os\n",
        "import pandas as pd\n",
        "import numpy as np\n",
        "import requests\n",
        "\n",
        "# Graph and spatial libraries\n",
        "import geopandas as gpd\n",
        "from scipy.spatial import cKDTree\n",
        "from geopy.distance import great_circle\n",
        "from rasterstats import zonal_stats\n",
        "from rasterio import open as raster_open\n",
        "from rasterio.mask import mask\n",
        "from rasterio.plot import show\n",
        "\n",
        "# Visualization\n",
        "import matplotlib.pyplot as plt\n",
        "import matplotlib.colors as mcolors\n",
        "import contextily as cx\n",
        "import seaborn as sns\n",
        "from matplotlib.ticker import FuncFormatter\n",
        "from summarytools import dfSummary\n",
        "\n",
        "# Miscellaneous utilities\n",
        "import pycountry\n",
        "\n",
        "# Notebook interaction and display\n",
        "import ipywidgets as widgets\n",
        "from IPython.display import display\n",
        "# from google.colab import data_table"
      ]
    },
    {
      "cell_type": "markdown",
      "metadata": {},
      "source": [
        "## Set analysis parameters"
      ]
    },
    {
      "cell_type": "markdown",
      "metadata": {},
      "source": [
        "We create a simple interface to select which country we want to analyze. This dropdown menu lets us easily switch between different countries to analyze their school connectivity situations. Later sections will add more parameters as needed."
      ]
    },
    {
      "cell_type": "code",
      "execution_count": null,
      "metadata": {},
      "outputs": [],
      "source": [
        "# @title Parameters\n",
        "item_layout = widgets.Layout(\n",
        "    width='auto',\n",
        "    min_width='20px',\n",
        "    flex='1 1 auto',\n",
        "    display='flex',\n",
        "    flex_flow='row wrap',\n",
        "    align_items='center',\n",
        "    justify_content='space-between'\n",
        ")\n",
        "\n",
        "country = widgets.Dropdown(\n",
        "    description='Country:',\n",
        "    options=list(map(lambda x: x.name, pycountry.countries)),\n",
        "    value='Algeria',\n",
        "    layout=item_layout,\n",
        "    style={'description_width': 'initial'}\n",
        ")\n",
        "\n",
        "inputs_layout = widgets.VBox(\n",
        "    children=[\n",
        "        widgets.HBox([country], layout=widgets.Layout(justify_content='space-between')),\n",
        "    ]\n",
        ")\n",
        "\n",
        "display(inputs_layout)"
      ]
    },
    {
      "cell_type": "markdown",
      "metadata": {
        "id": "TI9ES8rW1Nd3"
      },
      "source": [
        "## Download school dataset"
      ]
    },
    {
      "cell_type": "markdown",
      "metadata": {},
      "source": [
        "We're loading a dataset containing information about schools in Algeria. Each school has a unique identifier, its geographical coordinates (latitude and longitude), and a label indicating whether it's currently connected to the internet. The data is loaded into a GeoDataFrame, which is a special type of DataFrame that understands geographical data and can perform spatial operations.\n",
        "\n",
        "The school data contains the following columns:"
      ]
    },
    {
      "cell_type": "markdown",
      "metadata": {},
      "source": [
        "| Column            | Description                                             | Example                                    |\n",
        "|-------------------|---------------------------------------------------------|--------------------------------------------|\n",
        "| poi_id           | Unique school identifier (UUID)                         | \"8dd444f0-2eb1-4d9a-bf57-f032e517683\"      |\n",
        "| dataset_id       | Source data collection identifier                       | \"34500f3d-aec9-418b-81ff-1a77d23ba047\"     |\n",
        "| lat              | School's latitude coordinate                            | 31.949701                                   |\n",
        "| lon              | School's longitude coordinate                           | 33.580467                                   |\n",
        "| country_code     | Three-letter ISO country code                          | \"DZA\" (Algeria)                             |\n",
        "| poi_type         | Type of point of interest                              | \"school\"                                    |\n",
        "| is_connected     | Internet connectivity status                           | false                                       |\n",
        "| connectivity_type| Type of internet connection if available               | NaN (Not Available)                         |\n",
        "| has_electricity  | Electricity availability status                        | NaN (Not Available)                         |\n",
        "| electricity_type | Type of electrical supply if available                 | NaN (Not Available)                         |\n",
        "| label            | Category label for the point of interest               | \"school\"                                    |\n",
        "| geometry         | Geographic point representation (lat/lon)              | \"POINT (3.580467 31.949701)\"               |\n"
      ]
    },
    {
      "cell_type": "code",
      "execution_count": 46,
      "metadata": {
        "id": "d4yXYWw21VW3"
      },
      "outputs": [],
      "source": [
        "algeria_schools = pd.read_csv(\"https://zstagigaprodeuw1.blob.core.windows.net/gigainframapkit-public-container/algeria/processed/formatted_algeria_schools.csv\")"
      ]
    },
    {
      "cell_type": "code",
      "execution_count": 47,
      "metadata": {},
      "outputs": [],
      "source": [
        "algeria_schools_gdf = gpd.GeoDataFrame(algeria_schools[[\"poi_id\",\"dataset_id\",\"lat\",\"lon\"]], geometry=gpd.points_from_xy(algeria_schools.lon, algeria_schools.lat), crs='EPSG:4326').set_index(\"poi_id\")    "
      ]
    },
    {
      "cell_type": "code",
      "execution_count": null,
      "metadata": {
        "colab": {
          "base_uri": "https://localhost:8080/",
          "height": 314
        },
        "id": "FOZT-Mrs92OU",
        "outputId": "741b4e9d-4a14-4343-9b21-5bb74c5f2089"
      },
      "outputs": [],
      "source": [
        "algeria_schools_gdf.head()\n",
        "# data_table.DataTable(algeria_schools_gdf, num_rows_per_page=10)"
      ]
    },
    {
      "cell_type": "markdown",
      "metadata": {},
      "source": [
        "## Download cell site dataset"
      ]
    },
    {
      "cell_type": "markdown",
      "metadata": {},
      "source": [
        "Similar to the school dataset, we're loading information about cell site locations. Each tower record includes its coordinates, a unique identifier, the technologies it supports, and antenna heights. This information is crucial for determining whether a cell site could potentially provide coverage to nearby schools.\n",
        "\n",
        "The cell site data contains the following columns:"
      ]
    },
    {
      "cell_type": "markdown",
      "metadata": {},
      "source": [
        "| Column                      | Description                                             | Example                                    |\n",
        "|----------------------------|---------------------------------------------------------|--------------------------------------------|\n",
        "| ict_id                     | Unique identifier for ICT infrastructure                | \"ffc1a8b1-3f54-4692-9cc7-2249d9fbdbcc\"    |\n",
        "| dataset_id                 | Source data collection identifier                       | \"baddd192-284a-4025-8a10-f00929f3456a\"     |\n",
        "| lat                        | Cell site's latitude coordinate                         | 36.738                                      |\n",
        "| lon                        | Cell site's longitude coordinate                        | 2.9742                                      |\n",
        "| radio_type                 | Mobile network generation                              | \"4G\"                                        |\n",
        "| antenna_height             | Height of antenna in meters                            | 25                                          |\n",
        "| backhaul_type             | Type of backhaul connection                            | NaN (Not Available)                         |\n",
        "| backhaul_throughput_mbps   | Backhaul connection speed in Mbps                     | NaN (Not Available)                         |\n",
        "| operator_name              | Name of telecom operator                              | NaN (Not Available)                         |\n",
        "| azimuth_degrees           | Antenna direction in degrees                          | NaN (Not Available)                         |\n",
        "| tower_height              | Total height of tower structure                       | NaN (Not Available)                         |\n",
        "| geometry                   | Geographic point representation (lon/lat)              | \"POINT (2.9742 36.738)\"                    |"
      ]
    },
    {
      "cell_type": "code",
      "execution_count": 49,
      "metadata": {},
      "outputs": [],
      "source": [
        "algeria_cellsites = pd.read_csv(\"https://zstagigaprodeuw1.blob.core.windows.net/gigainframapkit-public-container/algeria/processed/formatted_algeria_cell_sites.csv\")"
      ]
    },
    {
      "cell_type": "code",
      "execution_count": 50,
      "metadata": {},
      "outputs": [],
      "source": [
        "algeria_cellsites_gdf = gpd.GeoDataFrame(algeria_cellsites, geometry=gpd.points_from_xy(algeria_cellsites.lon, algeria_cellsites.lat), crs='EPSG:4326').set_index(\"ict_id\")"
      ]
    },
    {
      "cell_type": "code",
      "execution_count": null,
      "metadata": {},
      "outputs": [],
      "source": [
        "algeria_cellsites_gdf.head()\n",
        "# data_table.DataTable(algeria_cellsites_gdf, num_rows_per_page=10)"
      ]
    },
    {
      "cell_type": "markdown",
      "metadata": {
        "id": "M0r1PnVS94kC"
      },
      "source": [
        "## Download transmission node dataset"
      ]
    },
    {
      "cell_type": "markdown",
      "metadata": {},
      "source": [
        "Similar to the school dataset, we load information about fiber transmission nodes. These are the existing connection points in our network that schools can potentially connect to."
      ]
    },
    {
      "cell_type": "markdown",
      "metadata": {},
      "source": [
        "| Column                    | Description                                             | Example                                      |\n",
        "|---------------------------|---------------------------------------------------------|----------------------------------------------|\n",
        "| ict_id                    | Unique identifier for fiber node location               | \"ada877d8-df1a-4d60-b86a-6561eca45f6c\"      |\n",
        "| dataset_id                | Source data collection identifier                       | \"1a452a88-1f87-4910-95ed-45179330f4a0\"       |\n",
        "| lat                       | Fiber node's latitude coordinate                        | 36.480870                                    |\n",
        "| lon                       | Fiber node's longitude coordinate                       | 2.835004                                     |\n",
        "| operator_name             | Name of network operator                                | NaN (Not Available)                          |\n",
        "| infrastructure_type       | Type of network infrastructure                          | \"fiber\"                                      |\n",
        "| node_status               | Operational status of node                              | \"operational\"                                |\n",
        "| equipped_capacity_mbps    | Current bandwidth capacity in Mbps                      | NaN (Not Available)                          |\n",
        "| potential_capacity_mbps   | Maximum possible bandwidth capacity in Mbps             | NaN (Not Available)                          |\n",
        "| geometry                  | Geographic point representation (lon/lat)               | \"POINT (2.835004 36.480870)\"                 |\n"
      ]
    },
    {
      "cell_type": "code",
      "execution_count": 52,
      "metadata": {
        "colab": {
          "base_uri": "https://localhost:8080/",
          "height": 314
        },
        "id": "Qnwkgsde-BOW",
        "outputId": "3adfbd2d-1b82-42c0-bf8a-f2b7583247c5"
      },
      "outputs": [],
      "source": [
        "algeria_nodes = pd.read_csv(\"https://zstagigaprodeuw1.blob.core.windows.net/gigainframapkit-public-container/algeria/processed/formatted_algeria_nodes.csv\")"
      ]
    },
    {
      "cell_type": "code",
      "execution_count": 53,
      "metadata": {},
      "outputs": [],
      "source": [
        "algeria_nodes_gdf = gpd.GeoDataFrame(algeria_nodes[[\"ict_id\",\"dataset_id\",\"lat\",\"lon\"]], geometry=gpd.points_from_xy(algeria_nodes.lon, algeria_nodes.lat), crs='EPSG:4326').set_index(\"ict_id\")"
      ]
    },
    {
      "cell_type": "code",
      "execution_count": null,
      "metadata": {},
      "outputs": [],
      "source": [
        "algeria_nodes_gdf.head()\n",
        "# data_table.DataTable(algeria_nodes_gdf, num_rows_per_page=10)"
      ]
    },
    {
      "cell_type": "markdown",
      "metadata": {},
      "source": [
        "## Proximity analysis"
      ]
    },
    {
      "cell_type": "markdown",
      "metadata": {},
      "source": [
        "This section calculates how far each school is from the nearest cell tower and fiber node. We:\n",
        "\n",
        "1. Use a special algorithm (KDTree) to efficiently find the closest infrastructure\n",
        "2. Calculate exact distances using the Haversine formula (which accounts for Earth's curvature)\n",
        "3. Add these distances to our school data"
      ]
    },
    {
      "cell_type": "code",
      "execution_count": 55,
      "metadata": {},
      "outputs": [],
      "source": [
        "def haversine_distance(lat1, lon1, lat2, lon2):\n",
        "    \"\"\"Calculate the Haversine distance.\"\"\"\n",
        "    return great_circle((lat1, lon1), (lat2, lon2)).meters"
      ]
    },
    {
      "cell_type": "code",
      "execution_count": 56,
      "metadata": {},
      "outputs": [],
      "source": [
        "def calculate_nearest_sites(source_gdf, target_gdf, id_col='ict_id'):\n",
        "    \"\"\"\n",
        "    Calculates the nearest site from `target_gdf` for each entry in `source_gdf` using a KDTree and Haversine distance.\n",
        "    \n",
        "    Args:\n",
        "        source_gdf (GeoDataFrame): GeoDataFrame with locations to find nearest neighbors for.\n",
        "        target_gdf (GeoDataFrame): GeoDataFrame of possible neighbor locations.\n",
        "        id_col (str): Column name for unique IDs in `target_gdf`.\n",
        "\n",
        "    Returns:\n",
        "        GeoDataFrame: Updated `source_gdf` with nearest site ID and distance columns.\n",
        "    \"\"\"\n",
        "    # Copy input file\n",
        "    source_gdf = source_gdf.copy()\n",
        "    target_gdf = target_gdf.copy()\n",
        "\n",
        "    # Build KDTree from target lat/lon\n",
        "    target_coords = target_gdf[['lat', 'lon']].values\n",
        "    kdtree = cKDTree(target_coords)\n",
        "\n",
        "    # Prepare lists for results\n",
        "    nearest_sites, distances = [], []\n",
        "\n",
        "    for _, row in source_gdf.iterrows():\n",
        "        # Query KDTree and calculate Haversine distance to nearest neighbor\n",
        "        _, idx = kdtree.query((row['lat'], row['lon']))\n",
        "        nearest_target = target_gdf.iloc[idx]\n",
        "        distance_m = haversine_distance(row['lat'], row['lon'], nearest_target['lat'], nearest_target['lon'])\n",
        "\n",
        "        # Append the nearest node and distance\n",
        "        nearest_sites.append(nearest_target.name)\n",
        "        distances.append(distance_m)\n",
        "\n",
        "    # Add nearest neighbor data to source_gdf\n",
        "    source_gdf['nearest_site_id'] = nearest_sites\n",
        "    source_gdf['nearest_site_distance'] = distances\n",
        "\n",
        "    # Format output\n",
        "    output = source_gdf[[\"nearest_site_id\",\"nearest_site_distance\"]]\n",
        "\n",
        "    return output"
      ]
    },
    {
      "cell_type": "markdown",
      "metadata": {},
      "source": [
        "### Cell sites"
      ]
    },
    {
      "cell_type": "code",
      "execution_count": 57,
      "metadata": {},
      "outputs": [],
      "source": [
        "nearest_cell_sites = calculate_nearest_sites(algeria_schools_gdf, algeria_cellsites_gdf)\n",
        "nearest_cell_sites = nearest_cell_sites.rename(columns={\"nearest_site_id\":\"nearest_cell_site_id\",\"nearest_site_distance\":\"cell_site_distance\"}, inplace=False)"
      ]
    },
    {
      "cell_type": "code",
      "execution_count": null,
      "metadata": {},
      "outputs": [],
      "source": [
        "nearest_cell_sites.head()"
      ]
    },
    {
      "cell_type": "code",
      "execution_count": 59,
      "metadata": {},
      "outputs": [],
      "source": [
        "algeria_schools_gdf = algeria_schools_gdf.merge(nearest_cell_sites, left_index=True, right_index=True)"
      ]
    },
    {
      "cell_type": "markdown",
      "metadata": {},
      "source": [
        "### Transmission nodes"
      ]
    },
    {
      "cell_type": "code",
      "execution_count": 60,
      "metadata": {},
      "outputs": [],
      "source": [
        "nearest_transmission_nodes = calculate_nearest_sites(algeria_schools_gdf, algeria_nodes_gdf)\n",
        "nearest_transmission_nodes = nearest_transmission_nodes.rename(columns={\"nearest_site_id\":\"nearest_transmission_node_id\",\"nearest_site_distance\":\"transmission_node_distance\"}, inplace=False)"
      ]
    },
    {
      "cell_type": "code",
      "execution_count": null,
      "metadata": {},
      "outputs": [],
      "source": [
        "nearest_transmission_nodes.head()"
      ]
    },
    {
      "cell_type": "code",
      "execution_count": 62,
      "metadata": {},
      "outputs": [],
      "source": [
        "algeria_schools_gdf = algeria_schools_gdf.merge(nearest_transmission_nodes, left_index=True, right_index=True)"
      ]
    },
    {
      "cell_type": "markdown",
      "metadata": {},
      "source": [
        "### Descriptive statistics"
      ]
    },
    {
      "cell_type": "markdown",
      "metadata": {},
      "source": [
        "- The median distance to a cell site is 60 kilometers: half of schools in Algeria are more than 60km away from a cell site. Some schools are over 1,000 kilometers away from a cell site.\n",
        "- For transmission nodes, the median distance is 10 kilometers. There aren't as many extreme outliers as observed for cell sites."
      ]
    },
    {
      "cell_type": "code",
      "execution_count": null,
      "metadata": {},
      "outputs": [],
      "source": [
        "dfSummary(algeria_schools_gdf[['cell_site_distance', 'transmission_node_distance']]/1000)"
      ]
    },
    {
      "cell_type": "code",
      "execution_count": null,
      "metadata": {},
      "outputs": [],
      "source": [
        "# Prepare the data for the violin plot\n",
        "data = algeria_schools_gdf[['cell_site_distance', 'transmission_node_distance']].melt(\n",
        "    var_name='Distance Type', \n",
        "    value_name='Distance'\n",
        ")\n",
        "data[\"Distance\"] = data[\"Distance\"] / 1000\n",
        "data['Distance Type'] = data['Distance Type'].replace({\n",
        "    'cell_site_distance': 'Cell site',\n",
        "    'transmission_node_distance': 'Transmission node'\n",
        "})\n",
        "\n",
        "# Set the aesthetics for the plot\n",
        "sns.set(style=\"whitegrid\")\n",
        "\n",
        "# Create a violin plot for the two distance metrics\n",
        "plt.figure(figsize=(10, 6))\n",
        "sns.violinplot(x='Distance Type', y='Distance', data=data, inner=None, palette='muted', hue='Distance Type')\n",
        "\n",
        "# Overlay jittered points using stripplot\n",
        "sns.stripplot(x='Distance Type', y='Distance', data=data, alpha=0.05, jitter=True, palette='muted', hue='Distance Type')\n",
        "\n",
        "# Set labels and title\n",
        "plt.xlabel('')\n",
        "plt.ylabel('Distance to nearest infrastructure (km)')\n",
        "plt.title('Distance to ICT infrastructure')\n",
        "formatter = FuncFormatter(lambda x, _: f'{int(x):,}')\n",
        "plt.gca().yaxis.set_major_formatter(formatter)\n",
        "\n",
        "# Show the plot\n",
        "plt.tight_layout()\n",
        "plt.show()"
      ]
    },
    {
      "cell_type": "markdown",
      "metadata": {},
      "source": [
        "## Coverage analysis"
      ]
    },
    {
      "cell_type": "markdown",
      "metadata": {},
      "source": [
        "Here we look at existing mobile network coverage areas to see which schools are already within range of cellular service. We:\n",
        "\n",
        "1. Load coverage map data\n",
        "2. Check which schools fall within coverage areas\n",
        "3. Visualize the results to understand coverage patterns\n",
        "\n",
        "Recall that our mobile coverage data is extracted from Ookla, and shows in which areas there have been successful mobile speed tests in the second quarter of 2024."
      ]
    },
    {
      "cell_type": "code",
      "execution_count": 65,
      "metadata": {},
      "outputs": [],
      "source": [
        "def plot_coverage(gdf, title=\"Mobile Coverage\", fill_color=\"#1f77b4\", alpha=0.6):\n",
        "    \"\"\"\n",
        "    Plot coverage polygons with a basemap\n",
        "    Parameters:\n",
        "    gdf : GeoDataFrame with polygon geometry\n",
        "    title : str, plot title\n",
        "    fill_color : str, color for polygons (hex code or name)\n",
        "    alpha : float, transparency level (0 to 1)\n",
        "    \"\"\"\n",
        "    # Create figure\n",
        "    fig, ax = plt.subplots(figsize=(8, 8))\n",
        "\n",
        "    # Plot the geodataframe\n",
        "    gdf.plot(\n",
        "        ax=ax,\n",
        "        color=fill_color,\n",
        "        alpha=alpha,\n",
        "        edgecolor='white',\n",
        "        linewidth=0.5\n",
        "    )\n",
        "\n",
        "    # Add basemap\n",
        "    cx.add_basemap(\n",
        "        ax,\n",
        "        crs=gdf.crs,\n",
        "        source=cx.providers.CartoDB.DarkMatter\n",
        "    )\n",
        "\n",
        "    # Style the plot\n",
        "    plt.title(title, pad=20, fontsize=16)\n",
        "    ax.axis('off')\n",
        "\n",
        "    # Add a text box with coverage area count\n",
        "    stats_text = f'Coverage Areas: {len(gdf)}'\n",
        "    plt.figtext(\n",
        "        0.02, 0.02, stats_text,\n",
        "        bbox=dict(facecolor='white', alpha=0.7),\n",
        "        fontsize=12\n",
        "    )\n",
        "\n",
        "    plt.tight_layout()\n",
        "    plt.show()"
      ]
    },
    {
      "cell_type": "code",
      "execution_count": 66,
      "metadata": {},
      "outputs": [],
      "source": [
        "algeria_mobile_coverage_gdf = gpd.read_file(\"https://zstagigaprodeuw1.blob.core.windows.net/gigainframapkit-public-container/algeria/processed/formatted_algeria_coverage.geojson\")"
      ]
    },
    {
      "cell_type": "code",
      "execution_count": null,
      "metadata": {},
      "outputs": [],
      "source": [
        "plot_coverage(algeria_mobile_coverage_gdf)"
      ]
    },
    {
      "cell_type": "code",
      "execution_count": 68,
      "metadata": {},
      "outputs": [],
      "source": [
        "coverage = algeria_schools_gdf.sjoin(algeria_mobile_coverage_gdf, how='left', predicate='within')[[\"coverage\"]].fillna(0).astype(bool)"
      ]
    },
    {
      "cell_type": "code",
      "execution_count": 69,
      "metadata": {},
      "outputs": [],
      "source": [
        "algeria_schools_gdf = algeria_schools_gdf.merge(coverage, left_index=True, right_index=True)"
      ]
    },
    {
      "cell_type": "markdown",
      "metadata": {},
      "source": [
        "### Descriptive statistics"
      ]
    },
    {
      "cell_type": "markdown",
      "metadata": {},
      "source": [
        "There are 1,735 schools in Algeria that do not have cellular coverage, based on the data used here."
      ]
    },
    {
      "cell_type": "code",
      "execution_count": null,
      "metadata": {},
      "outputs": [],
      "source": [
        "# Count the occurrences of True and False in the 'coverage' column\n",
        "coverage_counts = algeria_schools_gdf['coverage'].value_counts()\n",
        "\n",
        "# Set the aesthetics for the plot\n",
        "sns.set(style=\"whitegrid\")\n",
        "\n",
        "# Create a bar chart for the counts of True and False\n",
        "plt.figure(figsize=(8, 5))\n",
        "sns.barplot(x=coverage_counts.index, y=coverage_counts.values, palette='Set1')\n",
        "\n",
        "# Set labels and title\n",
        "plt.xlabel('Coverage Status')\n",
        "plt.ylabel('Count')\n",
        "plt.title('Cellular coverage in Algeria schools')\n",
        "plt.xticks(rotation=0)\n",
        "\n",
        "# Show the plot\n",
        "plt.tight_layout()\n",
        "plt.show()"
      ]
    },
    {
      "cell_type": "markdown",
      "metadata": {},
      "source": [
        "## Demand analysis"
      ]
    },
    {
      "cell_type": "markdown",
      "metadata": {},
      "source": [
        "In general, we would like to know how many people are users of a each amenity (in our case, schools). To do this, we need estimates of how many people live around each point. However, census datasets are rarely very granular - they tend to report population numbers for relatively large administrative areas, like regions or cities. For more granular population counts, we can use open datasets that disaggregate census numbers into smaller areas. Here, we will use data from [WorldPop](https://www.worldpop.org/), an organisation that uses a top-down approach to break down census counts into 1km square grids using information such as building locations.\n",
        "\n",
        "Having obtained granular population data, we analyze the numbers living around each school to understand potential demand. We:\n",
        "\n",
        "1. Use WorldPop data to get population estimates\n",
        "2. Create buffer zones around schools (catchment areas)\n",
        "3. Calculate how many people live within each school's area\n",
        "4. Visualize this information to identify high-priority areas"
      ]
    },
    {
      "cell_type": "markdown",
      "metadata": {},
      "source": [
        "![worldpop](https://www.worldpop.org/wp-content/uploads/2022/03/wb_TD.jpg)\n",
        "\n",
        "Source: [WorldPop](https://www.worldpop.org/methods/populations/)"
      ]
    },
    {
      "cell_type": "markdown",
      "metadata": {},
      "source": [
        "Using the controls below, we can select how large the buffer area around each school will be."
      ]
    },
    {
      "cell_type": "code",
      "execution_count": null,
      "metadata": {},
      "outputs": [],
      "source": [
        "# @title Parameters\n",
        "item_layout = widgets.Layout(\n",
        "    width='auto',\n",
        "    min_width='20px',\n",
        "    flex='1 1 auto',\n",
        "    display='flex',\n",
        "    flex_flow='row wrap',\n",
        "    align_items='center',\n",
        "    justify_content='space-between'\n",
        ")\n",
        "\n",
        "distance = widgets.FloatSlider(\n",
        "    description='Catchment area for schools (km):',\n",
        "    min=0,\n",
        "    max=10,\n",
        "    step=1,\n",
        "    value=1,\n",
        "    layout=item_layout,\n",
        "    style={'description_width': 'initial'}\n",
        ")\n",
        "\n",
        "inputs_layout = widgets.VBox(\n",
        "    children=[\n",
        "        widgets.HBox([distance], layout=widgets.Layout(justify_content='space-between')),\n",
        "    ]\n",
        ")\n",
        "\n",
        "display(inputs_layout)"
      ]
    },
    {
      "cell_type": "code",
      "execution_count": 72,
      "metadata": {},
      "outputs": [],
      "source": [
        "def get_worldpop_dataset_url(country_name, year=2020):\n",
        "    base_url = \"https://d35k53rhvc9u0d.cloudfront.net/worldpop_data/\"\n",
        "    dataset_info_path = base_url + 'assets/wpgpDatasets.csv'\n",
        "    \n",
        "    # Load the dataset paths\n",
        "    worldpop_dict = pd.read_csv(dataset_info_path)\n",
        "    \n",
        "    # Get the ISO-3 country code\n",
        "    country_code = pycountry.countries.get(name=country_name).alpha_3\n",
        "    \n",
        "    # Extract the dataset path for the specified country and year\n",
        "    dataset_path = worldpop_dict.loc[\n",
        "        (worldpop_dict.ISO3 == country_code) & \n",
        "        (worldpop_dict.Covariate == f'ppp_{year}_UNadj'), 'PathToRaster'\n",
        "    ].values[0]\n",
        "    \n",
        "    # Modify the path for 1km aggregated UN-adjusted data structure\n",
        "    path_parts = (base_url + dataset_path).split('/')\n",
        "    path_parts[6] += '_1km_UNadj'\n",
        "    path_parts[9] = path_parts[9].replace(str(year), f'{year}_1km_Aggregated')\n",
        "    \n",
        "    # Rejoin the path and return the full URL\n",
        "    return '/'.join(path_parts)\n",
        "\n",
        "def download_worldpop_data(country_name, destination_folder, year=2020):\n",
        "    \"\"\"\n",
        "    Downloads WorldPop data for a specified country and year to a specified folder.\n",
        "\n",
        "    Args:\n",
        "        country_name (str): Name of the country.\n",
        "        destination_folder (str): Folder to save files.\n",
        "        year (int): Year of the dataset (default is 2020).\n",
        "    \n",
        "    Returns:\n",
        "        None\n",
        "    \"\"\"\n",
        "    # Get the dataset URL\n",
        "    dataset_url = get_worldpop_dataset_url(country_name, year)\n",
        "    \n",
        "    # Make sure the destination folder exists\n",
        "    if not os.path.exists(destination_folder):\n",
        "        os.makedirs(destination_folder)\n",
        "    \n",
        "    # Extract filename from URL\n",
        "    file_name = os.path.basename(dataset_url)\n",
        "    file_path = os.path.join(destination_folder, file_name)\n",
        "    \n",
        "    # Download the file if it doesn't already exist\n",
        "    if not os.path.exists(file_path):\n",
        "        response = requests.get(dataset_url, stream=True)\n",
        "        if response.status_code == 200:\n",
        "            with open(file_path, 'wb') as f:\n",
        "                for chunk in response.iter_content(chunk_size=8192):\n",
        "                    f.write(chunk)\n",
        "            print(f\"Downloaded {file_name} to {destination_folder}\")\n",
        "        else:\n",
        "            print(f\"Failed to download file, status code: {response.status_code}\")\n",
        "    else:\n",
        "        print(f\"{file_name} already exists in {destination_folder}, skipping download.\")\n",
        "\n",
        "    return file_path\n",
        "\n",
        "def create_school_buffers(schools_gdf, distance):\n",
        "    \"\"\"\n",
        "    Create buffer areas around school geometries based on the specified distance.\n",
        "\n",
        "    Parameters:\n",
        "    - schools_gdf (GeoDataFrame): GeoDataFrame containing school geometries.\n",
        "    - distance (float): Distance in kilometers to create the buffer.\n",
        "\n",
        "    Returns:\n",
        "    - GeoDataFrame: A new GeoDataFrame with buffer geometries.\n",
        "    \"\"\"\n",
        "    # Calculate the radius in degrees\n",
        "    radius_deg = distance * np.rad2deg(1 / 6371)\n",
        "    \n",
        "    # Create buffers around the school geometries\n",
        "    schools_buffers_gdf = schools_gdf.copy()\n",
        "    schools_buffers_gdf['geometry'] = schools_gdf.geometry.buffer(radius_deg)\n",
        "    \n",
        "    # Set the geometry column\n",
        "    schools_buffers_gdf = schools_buffers_gdf.set_geometry('geometry', inplace=False)\n",
        "    schools_buffers_gdf = schools_buffers_gdf[['geometry']]\n",
        "\n",
        "    return schools_buffers_gdf\n",
        "\n",
        "def plot_polygons_with_cropped_raster_and_legend(gdf, raster_path):\n",
        "    \"\"\"Plots polygons from a GeoDataFrame against a cropped raster basemap with a color bar.\n",
        "    \n",
        "    Args:\n",
        "        gdf (GeoDataFrame): GeoDataFrame containing polygon geometries\n",
        "        raster_path (str): Path to the raster file\n",
        "    \"\"\"\n",
        "    with raster_open(raster_path) as raster:\n",
        "        geometries = gdf.geometry.values\n",
        "        out_image, out_transform = mask(raster, geometries, crop=True)\n",
        "        out_image = np.where(out_image == raster.nodata, np.nan, out_image)\n",
        "    \n",
        "    # Set up plot\n",
        "    fig, ax = plt.subplots(figsize=(10, 10))\n",
        "    \n",
        "    # Plot raster and polygons\n",
        "    show(out_image, ax=ax, transform=out_transform, cmap='viridis', alpha=0.7)\n",
        "    gdf.plot(ax=ax, edgecolor='black', facecolor='none', linewidth=1)\n",
        "    \n",
        "    # Configure axes\n",
        "    bounds = gdf.total_bounds\n",
        "    ax.set(xlim=(bounds[0], bounds[2]), \n",
        "           ylim=(bounds[1], bounds[3]),\n",
        "           xticks=[], yticks=[],\n",
        "           xlabel='', ylabel='',\n",
        "           title='')\n",
        "    \n",
        "    # Add colorbar\n",
        "    valid_data = out_image[~np.isnan(out_image)]\n",
        "    norm = mcolors.Normalize(vmin=np.nanmin(valid_data), vmax=np.nanmax(valid_data))\n",
        "    cbar = plt.colorbar(\n",
        "        plt.cm.ScalarMappable(norm=norm, cmap='viridis'),\n",
        "        ax=ax,\n",
        "        orientation='vertical',\n",
        "        fraction=0.02,\n",
        "        pad=0.04\n",
        "    )\n",
        "    cbar.set_label('Population')\n",
        "    \n",
        "    plt.show()"
      ]
    },
    {
      "cell_type": "markdown",
      "metadata": {},
      "source": [
        "First, we need to fetch the WorlPop raster file."
      ]
    },
    {
      "cell_type": "code",
      "execution_count": null,
      "metadata": {},
      "outputs": [],
      "source": [
        "pop_filepath = download_worldpop_data(\"Algeria\", \"population\", year=2020)"
      ]
    },
    {
      "cell_type": "markdown",
      "metadata": {},
      "source": [
        "First, we create the buffer areas around each school."
      ]
    },
    {
      "cell_type": "code",
      "execution_count": null,
      "metadata": {},
      "outputs": [],
      "source": [
        "algeria_schools_buffers_gdf = create_school_buffers(algeria_schools_gdf, distance.value)"
      ]
    },
    {
      "cell_type": "markdown",
      "metadata": {},
      "source": [
        "As illustrated below, the catchment areas (buffers) for schools that are close to each other can overlap."
      ]
    },
    {
      "cell_type": "code",
      "execution_count": null,
      "metadata": {},
      "outputs": [],
      "source": [
        "plot_polygons_with_cropped_raster_and_legend(algeria_schools_buffers_gdf.iloc[0:5, :], pop_filepath)"
      ]
    },
    {
      "cell_type": "markdown",
      "metadata": {},
      "source": [
        "Then, we can use the `rasterstats` library to sum the population inside each school's buffer area."
      ]
    },
    {
      "cell_type": "code",
      "execution_count": 76,
      "metadata": {},
      "outputs": [],
      "source": [
        "population_in_buffer = zonal_stats(algeria_schools_buffers_gdf, pop_filepath, stats='sum')\n",
        "algeria_schools_gdf['population_in_buffer'] = list(pd.DataFrame(population_in_buffer).iloc[:, 0])"
      ]
    },
    {
      "cell_type": "markdown",
      "metadata": {},
      "source": [
        "### Descriptive statistics"
      ]
    },
    {
      "cell_type": "markdown",
      "metadata": {},
      "source": [
        "We can see that the average school has about 12,000 people living in a 1 kilometer area around it."
      ]
    },
    {
      "cell_type": "code",
      "execution_count": null,
      "metadata": {},
      "outputs": [],
      "source": [
        "dfSummary(algeria_schools_gdf[['population_in_buffer']])"
      ]
    },
    {
      "cell_type": "code",
      "execution_count": null,
      "metadata": {},
      "outputs": [],
      "source": [
        "# Prepare the data for the violin plot\n",
        "data = algeria_schools_gdf[['population_in_buffer']].copy()\n",
        "data['Distance Type'] = 'Population in Buffer'\n",
        "\n",
        "# Set the aesthetics for the plot\n",
        "sns.set(style=\"whitegrid\")\n",
        "\n",
        "# Create a violin plot for the population in buffer\n",
        "plt.figure(figsize=(10, 6))\n",
        "sns.violinplot(x='Distance Type', y='population_in_buffer', data=data, inner=None, palette='muted', hue='Distance Type')\n",
        "\n",
        "# Overlay jittered points using stripplot\n",
        "sns.stripplot(x='Distance Type', y='population_in_buffer', data=data, palette='muted', alpha=0.1, jitter=True, hue='Distance Type')\n",
        "\n",
        "# Set labels and title\n",
        "plt.xlabel('')\n",
        "plt.ylabel('Population in buffer')\n",
        "plt.title('Population in buffer around schools')\n",
        "\n",
        "# Format y-axis with commas\n",
        "formatter = FuncFormatter(lambda x, _: f'{int(x):,}')\n",
        "plt.gca().yaxis.set_major_formatter(formatter)"
      ]
    },
    {
      "cell_type": "markdown",
      "metadata": {},
      "source": [
        "## Save outputs"
      ]
    },
    {
      "cell_type": "code",
      "execution_count": 80,
      "metadata": {},
      "outputs": [],
      "source": [
        "algeria_schools_gdf.to_csv(\"algeria-results-pcd.csv\")"
      ]
    }
  ],
  "metadata": {
    "colab": {
      "provenance": []
    },
    "kernelspec": {
      "display_name": "inframaptraining",
      "language": "python",
      "name": "python3"
    },
    "language_info": {
      "codemirror_mode": {
        "name": "ipython",
        "version": 3
      },
      "file_extension": ".py",
      "mimetype": "text/x-python",
      "name": "python",
      "nbconvert_exporter": "python",
      "pygments_lexer": "ipython3",
      "version": "3.9.20"
    },
    "widgets": {
      "application/vnd.jupyter.widget-state+json": {
        "16210811b7864fe7924ff7f086825a80": {
          "model_module": "@jupyter-widgets/controls",
          "model_module_version": "1.5.0",
          "model_name": "HBoxModel",
          "state": {
            "_dom_classes": [],
            "_model_module": "@jupyter-widgets/controls",
            "_model_module_version": "1.5.0",
            "_model_name": "HBoxModel",
            "_view_count": null,
            "_view_module": "@jupyter-widgets/controls",
            "_view_module_version": "1.5.0",
            "_view_name": "HBoxView",
            "box_style": "",
            "children": [
              "IPY_MODEL_1e7e10446aba4e378d8e4a390fd15ee2"
            ],
            "layout": "IPY_MODEL_1ded3b6f1bd74cf18a2c3442fe0ce87c"
          }
        },
        "1ded3b6f1bd74cf18a2c3442fe0ce87c": {
          "model_module": "@jupyter-widgets/base",
          "model_module_version": "1.2.0",
          "model_name": "LayoutModel",
          "state": {
            "_model_module": "@jupyter-widgets/base",
            "_model_module_version": "1.2.0",
            "_model_name": "LayoutModel",
            "_view_count": null,
            "_view_module": "@jupyter-widgets/base",
            "_view_module_version": "1.2.0",
            "_view_name": "LayoutView",
            "align_content": null,
            "align_items": null,
            "align_self": null,
            "border": null,
            "bottom": null,
            "display": null,
            "flex": null,
            "flex_flow": null,
            "grid_area": null,
            "grid_auto_columns": null,
            "grid_auto_flow": null,
            "grid_auto_rows": null,
            "grid_column": null,
            "grid_gap": null,
            "grid_row": null,
            "grid_template_areas": null,
            "grid_template_columns": null,
            "grid_template_rows": null,
            "height": null,
            "justify_content": "space-between",
            "justify_items": null,
            "left": null,
            "margin": null,
            "max_height": null,
            "max_width": null,
            "min_height": null,
            "min_width": null,
            "object_fit": null,
            "object_position": null,
            "order": null,
            "overflow": null,
            "overflow_x": null,
            "overflow_y": null,
            "padding": null,
            "right": null,
            "top": null,
            "visibility": null,
            "width": null
          }
        },
        "1e7e10446aba4e378d8e4a390fd15ee2": {
          "model_module": "@jupyter-widgets/controls",
          "model_module_version": "1.5.0",
          "model_name": "TextModel",
          "state": {
            "_dom_classes": [],
            "_model_module": "@jupyter-widgets/controls",
            "_model_module_version": "1.5.0",
            "_model_name": "TextModel",
            "_view_count": null,
            "_view_module": "@jupyter-widgets/controls",
            "_view_module_version": "1.5.0",
            "_view_name": "TextView",
            "continuous_update": true,
            "description": "Municipaliy code:",
            "description_tooltip": null,
            "disabled": false,
            "layout": "IPY_MODEL_bcb68a669be24f9d901b4b7d7c2b69db",
            "placeholder": "​",
            "style": "IPY_MODEL_eff5874a824343168ce0db50552025c6",
            "value": "1504059"
          }
        },
        "375986d0c75541909b3739bfa87e0fd1": {
          "model_module": "@jupyter-widgets/base",
          "model_module_version": "1.2.0",
          "model_name": "LayoutModel",
          "state": {
            "_model_module": "@jupyter-widgets/base",
            "_model_module_version": "1.2.0",
            "_model_name": "LayoutModel",
            "_view_count": null,
            "_view_module": "@jupyter-widgets/base",
            "_view_module_version": "1.2.0",
            "_view_name": "LayoutView",
            "align_content": null,
            "align_items": "center",
            "align_self": null,
            "border": null,
            "bottom": null,
            "display": "flex",
            "flex": "1 1 auto",
            "flex_flow": "row wrap",
            "grid_area": null,
            "grid_auto_columns": null,
            "grid_auto_flow": null,
            "grid_auto_rows": null,
            "grid_column": null,
            "grid_gap": null,
            "grid_row": null,
            "grid_template_areas": null,
            "grid_template_columns": null,
            "grid_template_rows": null,
            "height": null,
            "justify_content": "space-between",
            "justify_items": null,
            "left": null,
            "margin": null,
            "max_height": null,
            "max_width": null,
            "min_height": null,
            "min_width": "20px",
            "object_fit": null,
            "object_position": null,
            "order": null,
            "overflow": null,
            "overflow_x": null,
            "overflow_y": null,
            "padding": null,
            "right": null,
            "top": null,
            "visibility": null,
            "width": "auto"
          }
        },
        "5cdf55f299be445db515c9b9271f3e26": {
          "model_module": "@jupyter-widgets/controls",
          "model_module_version": "1.5.0",
          "model_name": "HBoxModel",
          "state": {
            "_dom_classes": [],
            "_model_module": "@jupyter-widgets/controls",
            "_model_module_version": "1.5.0",
            "_model_name": "HBoxModel",
            "_view_count": null,
            "_view_module": "@jupyter-widgets/controls",
            "_view_module_version": "1.5.0",
            "_view_name": "HBoxView",
            "box_style": "",
            "children": [
              "IPY_MODEL_85ac928b3f87447ea5a61c0c7042e73a"
            ],
            "layout": "IPY_MODEL_ddd3bae0bf9f4208a8333b56b1633928"
          }
        },
        "5e283e36c8724dc1ba70dd854e3d8d80": {
          "model_module": "@jupyter-widgets/controls",
          "model_module_version": "1.5.0",
          "model_name": "HBoxModel",
          "state": {
            "_dom_classes": [],
            "_model_module": "@jupyter-widgets/controls",
            "_model_module_version": "1.5.0",
            "_model_name": "HBoxModel",
            "_view_count": null,
            "_view_module": "@jupyter-widgets/controls",
            "_view_module_version": "1.5.0",
            "_view_name": "HBoxView",
            "box_style": "",
            "children": [
              "IPY_MODEL_6ba0ab6bdd3f4cd482325b3e0713117c"
            ],
            "layout": "IPY_MODEL_607339f88b51427ebb9518a2ccb36f09"
          }
        },
        "607339f88b51427ebb9518a2ccb36f09": {
          "model_module": "@jupyter-widgets/base",
          "model_module_version": "1.2.0",
          "model_name": "LayoutModel",
          "state": {
            "_model_module": "@jupyter-widgets/base",
            "_model_module_version": "1.2.0",
            "_model_name": "LayoutModel",
            "_view_count": null,
            "_view_module": "@jupyter-widgets/base",
            "_view_module_version": "1.2.0",
            "_view_name": "LayoutView",
            "align_content": null,
            "align_items": null,
            "align_self": null,
            "border": null,
            "bottom": null,
            "display": null,
            "flex": null,
            "flex_flow": null,
            "grid_area": null,
            "grid_auto_columns": null,
            "grid_auto_flow": null,
            "grid_auto_rows": null,
            "grid_column": null,
            "grid_gap": null,
            "grid_row": null,
            "grid_template_areas": null,
            "grid_template_columns": null,
            "grid_template_rows": null,
            "height": null,
            "justify_content": "space-between",
            "justify_items": null,
            "left": null,
            "margin": null,
            "max_height": null,
            "max_width": null,
            "min_height": null,
            "min_width": null,
            "object_fit": null,
            "object_position": null,
            "order": null,
            "overflow": null,
            "overflow_x": null,
            "overflow_y": null,
            "padding": null,
            "right": null,
            "top": null,
            "visibility": null,
            "width": null
          }
        },
        "6ba0ab6bdd3f4cd482325b3e0713117c": {
          "model_module": "@jupyter-widgets/controls",
          "model_module_version": "1.5.0",
          "model_name": "DropdownModel",
          "state": {
            "_dom_classes": [],
            "_model_module": "@jupyter-widgets/controls",
            "_model_module_version": "1.5.0",
            "_model_name": "DropdownModel",
            "_options_labels": [
              "Aruba",
              "Afghanistan",
              "Angola",
              "Anguilla",
              "Åland Islands",
              "Albania",
              "Andorra",
              "United Arab Emirates",
              "Argentina",
              "Armenia",
              "American Samoa",
              "Antarctica",
              "French Southern Territories",
              "Antigua and Barbuda",
              "Australia",
              "Austria",
              "Azerbaijan",
              "Burundi",
              "Belgium",
              "Benin",
              "Bonaire, Sint Eustatius and Saba",
              "Burkina Faso",
              "Bangladesh",
              "Bulgaria",
              "Bahrain",
              "Bahamas",
              "Bosnia and Herzegovina",
              "Saint Barthélemy",
              "Belarus",
              "Belize",
              "Bermuda",
              "Bolivia, Plurinational State of",
              "Brazil",
              "Barbados",
              "Brunei Darussalam",
              "Bhutan",
              "Bouvet Island",
              "Botswana",
              "Central African Republic",
              "Canada",
              "Cocos (Keeling) Islands",
              "Switzerland",
              "Chile",
              "China",
              "Côte d'Ivoire",
              "Cameroon",
              "Congo, The Democratic Republic of the",
              "Congo",
              "Cook Islands",
              "Colombia",
              "Comoros",
              "Cabo Verde",
              "Costa Rica",
              "Cuba",
              "Curaçao",
              "Christmas Island",
              "Cayman Islands",
              "Cyprus",
              "Czechia",
              "Germany",
              "Djibouti",
              "Dominica",
              "Denmark",
              "Dominican Republic",
              "Algeria",
              "Ecuador",
              "Egypt",
              "Eritrea",
              "Western Sahara",
              "Spain",
              "Estonia",
              "Ethiopia",
              "Finland",
              "Fiji",
              "Falkland Islands (Malvinas)",
              "France",
              "Faroe Islands",
              "Micronesia, Federated States of",
              "Gabon",
              "United Kingdom",
              "Georgia",
              "Guernsey",
              "Ghana",
              "Gibraltar",
              "Guinea",
              "Guadeloupe",
              "Gambia",
              "Guinea-Bissau",
              "Equatorial Guinea",
              "Greece",
              "Grenada",
              "Greenland",
              "Guatemala",
              "French Guiana",
              "Guam",
              "Guyana",
              "Hong Kong",
              "Heard Island and McDonald Islands",
              "Honduras",
              "Croatia",
              "Haiti",
              "Hungary",
              "Indonesia",
              "Isle of Man",
              "India",
              "British Indian Ocean Territory",
              "Ireland",
              "Iran, Islamic Republic of",
              "Iraq",
              "Iceland",
              "Israel",
              "Italy",
              "Jamaica",
              "Jersey",
              "Jordan",
              "Japan",
              "Kazakhstan",
              "Kenya",
              "Kyrgyzstan",
              "Cambodia",
              "Kiribati",
              "Saint Kitts and Nevis",
              "Korea, Republic of",
              "Kuwait",
              "Lao People's Democratic Republic",
              "Lebanon",
              "Liberia",
              "Libya",
              "Saint Lucia",
              "Liechtenstein",
              "Sri Lanka",
              "Lesotho",
              "Lithuania",
              "Luxembourg",
              "Latvia",
              "Macao",
              "Saint Martin (French part)",
              "Morocco",
              "Monaco",
              "Moldova, Republic of",
              "Madagascar",
              "Maldives",
              "Mexico",
              "Marshall Islands",
              "North Macedonia",
              "Mali",
              "Malta",
              "Myanmar",
              "Montenegro",
              "Mongolia",
              "Northern Mariana Islands",
              "Mozambique",
              "Mauritania",
              "Montserrat",
              "Martinique",
              "Mauritius",
              "Malawi",
              "Malaysia",
              "Mayotte",
              "Namibia",
              "New Caledonia",
              "Niger",
              "Norfolk Island",
              "Nigeria",
              "Nicaragua",
              "Niue",
              "Netherlands",
              "Norway",
              "Nepal",
              "Nauru",
              "New Zealand",
              "Oman",
              "Pakistan",
              "Panama",
              "Pitcairn",
              "Peru",
              "Philippines",
              "Palau",
              "Papua New Guinea",
              "Poland",
              "Puerto Rico",
              "Korea, Democratic People's Republic of",
              "Portugal",
              "Paraguay",
              "Palestine, State of",
              "French Polynesia",
              "Qatar",
              "Réunion",
              "Romania",
              "Russian Federation",
              "Rwanda",
              "Saudi Arabia",
              "Sudan",
              "Senegal",
              "Singapore",
              "South Georgia and the South Sandwich Islands",
              "Saint Helena, Ascension and Tristan da Cunha",
              "Svalbard and Jan Mayen",
              "Solomon Islands",
              "Sierra Leone",
              "El Salvador",
              "San Marino",
              "Somalia",
              "Saint Pierre and Miquelon",
              "Serbia",
              "South Sudan",
              "Sao Tome and Principe",
              "Suriname",
              "Slovakia",
              "Slovenia",
              "Sweden",
              "Eswatini",
              "Sint Maarten (Dutch part)",
              "Seychelles",
              "Syrian Arab Republic",
              "Turks and Caicos Islands",
              "Chad",
              "Togo",
              "Thailand",
              "Tajikistan",
              "Tokelau",
              "Turkmenistan",
              "Timor-Leste",
              "Tonga",
              "Trinidad and Tobago",
              "Tunisia",
              "Turkey",
              "Tuvalu",
              "Taiwan, Province of China",
              "Tanzania, United Republic of",
              "Uganda",
              "Ukraine",
              "United States Minor Outlying Islands",
              "Uruguay",
              "United States",
              "Uzbekistan",
              "Holy See (Vatican City State)",
              "Saint Vincent and the Grenadines",
              "Venezuela, Bolivarian Republic of",
              "Virgin Islands, British",
              "Virgin Islands, U.S.",
              "Viet Nam",
              "Vanuatu",
              "Wallis and Futuna",
              "Samoa",
              "Yemen",
              "South Africa",
              "Zambia",
              "Zimbabwe"
            ],
            "_view_count": null,
            "_view_module": "@jupyter-widgets/controls",
            "_view_module_version": "1.5.0",
            "_view_name": "DropdownView",
            "description": "Country:",
            "description_tooltip": null,
            "disabled": false,
            "index": 32,
            "layout": "IPY_MODEL_bcb68a669be24f9d901b4b7d7c2b69db",
            "style": "IPY_MODEL_ab126a6c73da451fab4dd7a0fe238be8"
          }
        },
        "85ac928b3f87447ea5a61c0c7042e73a": {
          "model_module": "@jupyter-widgets/controls",
          "model_module_version": "1.5.0",
          "model_name": "FloatSliderModel",
          "state": {
            "_dom_classes": [],
            "_model_module": "@jupyter-widgets/controls",
            "_model_module_version": "1.5.0",
            "_model_name": "FloatSliderModel",
            "_view_count": null,
            "_view_module": "@jupyter-widgets/controls",
            "_view_module_version": "1.5.0",
            "_view_name": "FloatSliderView",
            "continuous_update": true,
            "description": "Maximum Connection Length:",
            "description_tooltip": null,
            "disabled": false,
            "layout": "IPY_MODEL_375986d0c75541909b3739bfa87e0fd1",
            "max": 100,
            "min": 0,
            "orientation": "horizontal",
            "readout": true,
            "readout_format": ".2f",
            "step": 1,
            "style": "IPY_MODEL_a910f638ff474b308bb9cfb18d66b22f",
            "value": 15
          }
        },
        "92af6ce2dcbb4a6f985e77706ff07967": {
          "model_module": "@jupyter-widgets/base",
          "model_module_version": "1.2.0",
          "model_name": "LayoutModel",
          "state": {
            "_model_module": "@jupyter-widgets/base",
            "_model_module_version": "1.2.0",
            "_model_name": "LayoutModel",
            "_view_count": null,
            "_view_module": "@jupyter-widgets/base",
            "_view_module_version": "1.2.0",
            "_view_name": "LayoutView",
            "align_content": null,
            "align_items": null,
            "align_self": null,
            "border": null,
            "bottom": null,
            "display": null,
            "flex": null,
            "flex_flow": null,
            "grid_area": null,
            "grid_auto_columns": null,
            "grid_auto_flow": null,
            "grid_auto_rows": null,
            "grid_column": null,
            "grid_gap": null,
            "grid_row": null,
            "grid_template_areas": null,
            "grid_template_columns": null,
            "grid_template_rows": null,
            "height": null,
            "justify_content": null,
            "justify_items": null,
            "left": null,
            "margin": null,
            "max_height": null,
            "max_width": null,
            "min_height": null,
            "min_width": null,
            "object_fit": null,
            "object_position": null,
            "order": null,
            "overflow": null,
            "overflow_x": null,
            "overflow_y": null,
            "padding": null,
            "right": null,
            "top": null,
            "visibility": null,
            "width": null
          }
        },
        "a910f638ff474b308bb9cfb18d66b22f": {
          "model_module": "@jupyter-widgets/controls",
          "model_module_version": "1.5.0",
          "model_name": "SliderStyleModel",
          "state": {
            "_model_module": "@jupyter-widgets/controls",
            "_model_module_version": "1.5.0",
            "_model_name": "SliderStyleModel",
            "_view_count": null,
            "_view_module": "@jupyter-widgets/base",
            "_view_module_version": "1.2.0",
            "_view_name": "StyleView",
            "description_width": "initial",
            "handle_color": null
          }
        },
        "ab126a6c73da451fab4dd7a0fe238be8": {
          "model_module": "@jupyter-widgets/controls",
          "model_module_version": "1.5.0",
          "model_name": "DescriptionStyleModel",
          "state": {
            "_model_module": "@jupyter-widgets/controls",
            "_model_module_version": "1.5.0",
            "_model_name": "DescriptionStyleModel",
            "_view_count": null,
            "_view_module": "@jupyter-widgets/base",
            "_view_module_version": "1.2.0",
            "_view_name": "StyleView",
            "description_width": "initial"
          }
        },
        "bcb68a669be24f9d901b4b7d7c2b69db": {
          "model_module": "@jupyter-widgets/base",
          "model_module_version": "1.2.0",
          "model_name": "LayoutModel",
          "state": {
            "_model_module": "@jupyter-widgets/base",
            "_model_module_version": "1.2.0",
            "_model_name": "LayoutModel",
            "_view_count": null,
            "_view_module": "@jupyter-widgets/base",
            "_view_module_version": "1.2.0",
            "_view_name": "LayoutView",
            "align_content": null,
            "align_items": "center",
            "align_self": null,
            "border": null,
            "bottom": null,
            "display": "flex",
            "flex": "1 1",
            "flex_flow": "row wrap",
            "grid_area": null,
            "grid_auto_columns": null,
            "grid_auto_flow": null,
            "grid_auto_rows": null,
            "grid_column": null,
            "grid_gap": null,
            "grid_row": null,
            "grid_template_areas": null,
            "grid_template_columns": null,
            "grid_template_rows": null,
            "height": null,
            "justify_content": "space-between",
            "justify_items": null,
            "left": null,
            "margin": null,
            "max_height": null,
            "max_width": null,
            "min_height": null,
            "min_width": "20px",
            "object_fit": null,
            "object_position": null,
            "order": null,
            "overflow": null,
            "overflow_x": null,
            "overflow_y": null,
            "padding": null,
            "right": null,
            "top": null,
            "visibility": null,
            "width": "auto"
          }
        },
        "dbcb588af55241f396b88e75c887d399": {
          "model_module": "@jupyter-widgets/controls",
          "model_module_version": "1.5.0",
          "model_name": "VBoxModel",
          "state": {
            "_dom_classes": [],
            "_model_module": "@jupyter-widgets/controls",
            "_model_module_version": "1.5.0",
            "_model_name": "VBoxModel",
            "_view_count": null,
            "_view_module": "@jupyter-widgets/controls",
            "_view_module_version": "1.5.0",
            "_view_name": "VBoxView",
            "box_style": "",
            "children": [
              "IPY_MODEL_5e283e36c8724dc1ba70dd854e3d8d80",
              "IPY_MODEL_16210811b7864fe7924ff7f086825a80",
              "IPY_MODEL_5cdf55f299be445db515c9b9271f3e26"
            ],
            "layout": "IPY_MODEL_92af6ce2dcbb4a6f985e77706ff07967"
          }
        },
        "ddd3bae0bf9f4208a8333b56b1633928": {
          "model_module": "@jupyter-widgets/base",
          "model_module_version": "1.2.0",
          "model_name": "LayoutModel",
          "state": {
            "_model_module": "@jupyter-widgets/base",
            "_model_module_version": "1.2.0",
            "_model_name": "LayoutModel",
            "_view_count": null,
            "_view_module": "@jupyter-widgets/base",
            "_view_module_version": "1.2.0",
            "_view_name": "LayoutView",
            "align_content": null,
            "align_items": null,
            "align_self": null,
            "border": null,
            "bottom": null,
            "display": null,
            "flex": null,
            "flex_flow": null,
            "grid_area": null,
            "grid_auto_columns": null,
            "grid_auto_flow": null,
            "grid_auto_rows": null,
            "grid_column": null,
            "grid_gap": null,
            "grid_row": null,
            "grid_template_areas": null,
            "grid_template_columns": null,
            "grid_template_rows": null,
            "height": null,
            "justify_content": "space-between",
            "justify_items": null,
            "left": null,
            "margin": null,
            "max_height": null,
            "max_width": null,
            "min_height": null,
            "min_width": null,
            "object_fit": null,
            "object_position": null,
            "order": null,
            "overflow": null,
            "overflow_x": null,
            "overflow_y": null,
            "padding": null,
            "right": null,
            "top": null,
            "visibility": null,
            "width": null
          }
        },
        "eff5874a824343168ce0db50552025c6": {
          "model_module": "@jupyter-widgets/controls",
          "model_module_version": "1.5.0",
          "model_name": "DescriptionStyleModel",
          "state": {
            "_model_module": "@jupyter-widgets/controls",
            "_model_module_version": "1.5.0",
            "_model_name": "DescriptionStyleModel",
            "_view_count": null,
            "_view_module": "@jupyter-widgets/base",
            "_view_module_version": "1.2.0",
            "_view_name": "StyleView",
            "description_width": "initial"
          }
        }
      }
    }
  },
  "nbformat": 4,
  "nbformat_minor": 0
}
