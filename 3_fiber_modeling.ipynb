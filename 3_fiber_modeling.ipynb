{
  "cells": [
    {
      "cell_type": "markdown",
      "metadata": {
        "id": "sj50G1pGJsOz"
      },
      "source": [
        "# Fiber path modeling"
      ]
    },
    {
      "cell_type": "markdown",
      "metadata": {
        "id": "ErL06KLX0ECA"
      },
      "source": [
        "## Setting up our environment"
      ]
    },
    {
      "cell_type": "markdown",
      "metadata": {
        "id": "9Hs2PlZ3JsO6"
      },
      "source": [
        "In this section, we import the necessary Python libraries for our fiber path modeling:\n",
        "\n",
        "Data handling tools (pandas, numpy) for efficient data manipulation\n",
        "Network analysis tools (networkx) for creating and analyzing network graphs\n",
        "Spatial libraries (geopandas, scipy) for geographic calculations\n",
        "Visualization tools (matplotlib, folium) for displaying our results\n",
        "Additional utilities for improved functionality"
      ]
    },
    {
      "cell_type": "code",
      "execution_count": null,
      "metadata": {
        "colab": {
          "base_uri": "https://localhost:8080/"
        },
        "collapsed": true,
        "id": "PMWtGYcd6QMI",
        "outputId": "bd76ca4f-68c8-40f7-ea60-b00e9e6dae4b"
      },
      "outputs": [],
      "source": [
        "!pip install pycountry"
      ]
    },
    {
      "cell_type": "code",
      "execution_count": 2,
      "metadata": {
        "id": "DPsJKb-J0GsT"
      },
      "outputs": [],
      "source": [
        "# Data handling\n",
        "import pandas as pd\n",
        "import numpy as np\n",
        "\n",
        "# Efficient queueing and combinatorics\n",
        "import heapq\n",
        "import itertools\n",
        "\n",
        "# Graph and spatial libraries\n",
        "import networkx as nx\n",
        "import geopandas as gpd\n",
        "from scipy.spatial import cKDTree\n",
        "\n",
        "# Visualization\n",
        "import matplotlib.pyplot as plt\n",
        "import folium\n",
        "\n",
        "# Miscellaneous utilities\n",
        "from tqdm import tqdm\n",
        "import pycountry\n",
        "\n",
        "# Notebook interaction and display\n",
        "import ipywidgets as widgets\n",
        "from IPython.display import display"
      ]
    },
    {
      "cell_type": "markdown",
      "metadata": {
        "id": "8PAMhst_1JSk"
      },
      "source": [
        "## Set analysis parameters"
      ]
    },
    {
      "cell_type": "markdown",
      "metadata": {
        "id": "iDEmtQDEJsO7"
      },
      "source": [
        "Here we create an interactive interface that allows us to:\n",
        "\n",
        "- Select a country from a dropdown menu\n",
        "- Set the maximum fiber length use to connect each point of interest\n",
        "\n",
        "These parameters will influence how our network is constructed and how schools can be connected to fiber nodes. You need to click play button of the controls cell each time you change the parameters."
      ]
    },
    {
      "cell_type": "code",
      "execution_count": null,
      "metadata": {
        "cellView": "form",
        "colab": {
          "base_uri": "https://localhost:8080/",
          "height": 81,
          "referenced_widgets": [
            "f46951a911584340abbebb27a575e774",
            "19262ec7d37d450a92ed8730add2d961",
            "93f490dca07f45c3a1513f4968908ad2",
            "1ddac739d05643a39069bcf83c74ac89",
            "10ed653babbc4402830c681f18e73592",
            "055f6b19c07b46ee9955a9e9eb844665",
            "568a7386b6b64acf82ad9391c8424fb6",
            "7534183b206b45cabcd58bf7e1e2fc63",
            "c26bb539d9ad4f60ac56c27823d7c0e3",
            "e2dd762dc43947ce9d7f69af0efaf0c5",
            "19ede0fe4d8941fc98a25554be82df19",
            "f2667673e98048a9b43a85075abb6490"
          ]
        },
        "id": "j5bSTAko0Szd",
        "outputId": "71c70172-6066-41d0-a9d8-33c03d010f51"
      },
      "outputs": [],
      "source": [
        "#@title\n",
        "# Define the layout for the input fields\n",
        "item_layout = widgets.Layout(\n",
        "    width='auto',\n",
        "    min_width='20px',\n",
        "    flex='1 1 auto',\n",
        "    display='flex',\n",
        "    flex_flow='row wrap',\n",
        "    align_items='center',\n",
        "    justify_content='space-between'\n",
        ")\n",
        "\n",
        "item_layout2 = widgets.Layout(\n",
        "    width='auto',\n",
        "    min_width='20px',\n",
        "    flex='1 1',\n",
        "    display='flex',\n",
        "    flex_flow='row wrap',\n",
        "    align_items='center',\n",
        "    justify_content='space-between'\n",
        ")\n",
        "\n",
        "# Create the input fields\n",
        "country = widgets.Dropdown(\n",
        "    description='Country:',\n",
        "    options=list(map(lambda x: x.name, pycountry.countries)),\n",
        "    value='Algeria',\n",
        "    layout=item_layout2,\n",
        "    style={'description_width': 'initial'}\n",
        ")\n",
        "\n",
        "maximum_connection_length = widgets.FloatSlider(\n",
        "    description='Maximum Connection Length (km):',\n",
        "    min=0,\n",
        "    max=100,\n",
        "    step=1,\n",
        "    value=15,\n",
        "    layout=item_layout,\n",
        "    style={'description_width': 'initial'}\n",
        ")\n",
        "\n",
        "# Create a container to hold the input fields\n",
        "inputs_layout = widgets.VBox(\n",
        "    children=[\n",
        "        widgets.HBox([country], layout=widgets.Layout(justify_content='space-between')),\n",
        "        widgets.HBox([maximum_connection_length], layout=widgets.Layout(justify_content='space-between')),\n",
        "    ]\n",
        ")\n",
        "\n",
        "# Display the input fields\n",
        "display(inputs_layout)"
      ]
    },
    {
      "cell_type": "markdown",
      "metadata": {
        "id": "TI9ES8rW1Nd3"
      },
      "source": [
        "## Download school dataset"
      ]
    },
    {
      "cell_type": "markdown",
      "metadata": {
        "id": "KG39Iu-wJsO9"
      },
      "source": [
        "We load data about school locations in Algeria from a public dataset. Each school is represented by:\n",
        "\n",
        "- Geographic coordinates (latitude and longitude)\n",
        "- Unique identifiers\n",
        "- Additional metadata\n",
        "\n",
        "We convert this into a GeoDataFrame to enable spatial operations."
      ]
    },
    {
      "cell_type": "code",
      "execution_count": 4,
      "metadata": {
        "id": "d4yXYWw21VW3"
      },
      "outputs": [],
      "source": [
        "algeria_schools = pd.read_csv(\"https://zstagigaprodeuw1.blob.core.windows.net/gigainframapkit-public-container/algeria/processed/formatted_algeria_schools.csv\")"
      ]
    },
    {
      "cell_type": "code",
      "execution_count": 5,
      "metadata": {
        "id": "5hlYKg2VJsO9"
      },
      "outputs": [],
      "source": [
        "algeria_schools_gdf = gpd.GeoDataFrame(algeria_schools[[\"poi_id\",\"dataset_id\",\"lat\",\"lon\"]], geometry=gpd.points_from_xy(algeria_schools.lon, algeria_schools.lat), crs='EPSG:4326')\n",
        "algeria_schools_gdf = algeria_schools_gdf.rename(columns={\"poi_id\":\"id\"}, inplace=False)\n",
        "algeria_schools_gdf[\"label\"] = \"unconnected_school\""
      ]
    },
    {
      "cell_type": "code",
      "execution_count": null,
      "metadata": {
        "colab": {
          "base_uri": "https://localhost:8080/",
          "height": 629
        },
        "id": "FOZT-Mrs92OU",
        "outputId": "818c6dec-785c-417b-f6ff-f187a42fd236"
      },
      "outputs": [],
      "source": [
        "algeria_schools_gdf.head()"
      ]
    },
    {
      "cell_type": "markdown",
      "metadata": {
        "id": "M0r1PnVS94kC"
      },
      "source": [
        "## Download transmission node dataset"
      ]
    },
    {
      "cell_type": "markdown",
      "metadata": {
        "id": "0mryxk9IJsO-"
      },
      "source": [
        "Similar to the school dataset, we load information about fiber transmission nodes. These are the existing connection points in our network that schools can potentially connect to."
      ]
    },
    {
      "cell_type": "code",
      "execution_count": 7,
      "metadata": {
        "id": "Qnwkgsde-BOW"
      },
      "outputs": [],
      "source": [
        "algeria_nodes = pd.read_csv(\"https://zstagigaprodeuw1.blob.core.windows.net/gigainframapkit-public-container/algeria/processed/formatted_algeria_nodes.csv\")"
      ]
    },
    {
      "cell_type": "code",
      "execution_count": 8,
      "metadata": {
        "id": "rB5cmsZwJsO-"
      },
      "outputs": [],
      "source": [
        "algeria_nodes_gdf = gpd.GeoDataFrame(algeria_nodes[[\"ict_id\",\"dataset_id\",\"lat\",\"lon\"]], geometry=gpd.points_from_xy(algeria_nodes.lon, algeria_nodes.lat), crs='EPSG:4326')\n",
        "algeria_nodes_gdf = algeria_nodes_gdf.rename(columns={\"ict_id\":\"id\"}, inplace=False)\n",
        "algeria_nodes_gdf[\"label\"] = \"fiber_node\""
      ]
    },
    {
      "cell_type": "code",
      "execution_count": null,
      "metadata": {
        "colab": {
          "base_uri": "https://localhost:8080/",
          "height": 513
        },
        "id": "_aQa8KLOJsO-",
        "outputId": "7f732f93-35a9-4e10-82ba-eacd9912fc32"
      },
      "outputs": [],
      "source": [
        "algeria_nodes_gdf.head()"
      ]
    },
    {
      "cell_type": "markdown",
      "metadata": {
        "id": "QHbJVX6s-HGs"
      },
      "source": [
        "## Combine both datasets"
      ]
    },
    {
      "cell_type": "markdown",
      "metadata": {
        "id": "WwUVCpj2JsO-"
      },
      "source": [
        "We merge the school and fiber node datasets into a single DataFrame. This combined dataset will form the basis of our network analysis, containing both potential connection points (transmission nodes) and locations needing connection (schools)."
      ]
    },
    {
      "cell_type": "code",
      "execution_count": 10,
      "metadata": {
        "id": "7XAxW2vk1jMQ"
      },
      "outputs": [],
      "source": [
        "df_locations = pd.concat([algeria_schools_gdf, algeria_nodes_gdf]).set_index('id')"
      ]
    },
    {
      "cell_type": "markdown",
      "metadata": {
        "id": "E9Hg4yDkKWlD"
      },
      "source": [
        "## Select a city"
      ]
    },
    {
      "cell_type": "markdown",
      "metadata": {
        "id": "KpeSlD0tJsO_"
      },
      "source": [
        "We implement interactive functionality to choose a specific city in Algeria for our fiber path modelling. This is to make the problem smaller and faster to solve. You need to click play button of the controls cell each time you change the parameter."
      ]
    },
    {
      "cell_type": "code",
      "execution_count": null,
      "metadata": {
        "cellView": "form",
        "colab": {
          "base_uri": "https://localhost:8080/",
          "height": 49,
          "referenced_widgets": [
            "2dd56c2e01184c80aef96e78ff15db1f",
            "1e3355826fbe44c3baab4ab61b7445a4",
            "3566e861d99841528579c3f490d6e276",
            "1cb272c4ff1c414ca8cb03081c7f0fc7",
            "d7300b77566748f1bf110db14e340501",
            "692f278825344221b321caba7cc31c7a",
            "01eea14fcc7b4190a2254af624017756"
          ]
        },
        "id": "Ei-y6WGhJsO_",
        "outputId": "7c45f589-f371-4a64-c035-0ef2f4aea310"
      },
      "outputs": [],
      "source": [
        "# @title\n",
        "# Define the layout for the input fields\n",
        "item_layout = widgets.Layout(\n",
        "    width='auto',\n",
        "    min_width='20px',\n",
        "    flex='1 1 auto',\n",
        "    display='flex',\n",
        "    flex_flow='row wrap',\n",
        "    align_items='center',\n",
        "    justify_content='space-between'\n",
        ")\n",
        "\n",
        "# Create the city dropdown\n",
        "city_centroids = pd.DataFrame({\"city\": [\"Sidi Bel Abbes\"], \"lat\": [35.1917], \"lon\": [-0.6417]})\n",
        "list(city_centroids[\"city\"].unique())\n",
        "city = widgets.Dropdown(\n",
        "    description='City:',\n",
        "    options=list(city_centroids[\"city\"].unique()),\n",
        "    value=city_centroids[\"city\"][0],\n",
        "    layout=item_layout,\n",
        "    style={'description_width': 'initial'}\n",
        ")\n",
        "\n",
        "# Create a container to hold the dropdown\n",
        "inputs_layout = widgets.VBox(\n",
        "    children=[\n",
        "        widgets.HBox([city], layout=widgets.Layout(justify_content='space-between')),\n",
        "    ]\n",
        ")\n",
        "\n",
        "# Display the widget\n",
        "display(inputs_layout)"
      ]
    },
    {
      "cell_type": "code",
      "execution_count": 12,
      "metadata": {
        "id": "1QJpiQ4rJsO_"
      },
      "outputs": [],
      "source": [
        "def find_locations_within_distance(reference_point, locations_df, max_distance, earth_radius=6371):\n",
        "    \"\"\"Find all locations within a specified distance of a reference point.\n",
        "    Args:\n",
        "        reference_point: (longitude, latitude) tuple\n",
        "        locations_df: DataFrame with 'lon' and 'lat' columns\n",
        "        max_distance: maximum distance in same units as coordinates\n",
        "    Returns:\n",
        "        DataFrame containing locations within the specified distance\n",
        "    \"\"\"\n",
        "    # Create a KDTree using the locations\n",
        "    kdtree = cKDTree(locations_df[['lon', 'lat']].values)\n",
        "\n",
        "    # Find all points within max_distance, after converting to degrees\n",
        "    radius = max_distance * np.rad2deg(1/earth_radius)\n",
        "    indices = kdtree.query_ball_point(np.array(reference_point), radius)\n",
        "\n",
        "    # Get the distances for the found points\n",
        "    if indices:\n",
        "        distances = kdtree.query(np.array(reference_point), k=len(indices))[0]\n",
        "        distances = np.deg2rad(distances) * earth_radius\n",
        "        result_df = locations_df.iloc[indices].copy()\n",
        "        result_df['distance'] = distances\n",
        "        return result_df.sort_values('distance')\n",
        "    else:\n",
        "        return pd.DataFrame()"
      ]
    },
    {
      "cell_type": "code",
      "execution_count": 13,
      "metadata": {
        "id": "9B48dcdkJsO_"
      },
      "outputs": [],
      "source": [
        "selected_centroid = city_centroids.loc[city_centroids.city == city.value, ['lon', 'lat']].values[0]\n",
        "filtered_locations = find_locations_within_distance(selected_centroid, df_locations, max_distance=2)\n",
        "connected_idx = filtered_locations.loc[df_locations.label != 'unconnected_school'].index\n",
        "unconnected_idx = filtered_locations.loc[df_locations.label == 'unconnected_school'].index"
      ]
    },
    {
      "cell_type": "code",
      "execution_count": null,
      "metadata": {
        "colab": {
          "base_uri": "https://localhost:8080/"
        },
        "id": "Llq44ohFJsO_",
        "outputId": "1d9dbd73-da50-4c42-ed3b-5cb392bc3124"
      },
      "outputs": [],
      "source": [
        "assert len(connected_idx) > 0, \"There are no fiber nodes in the selected area\"\n",
        "assert len(unconnected_idx) > 0, \"There are no schools in the selected area\"\n",
        "print(f\"There are {len(connected_idx)} fiber nodes and {len(unconnected_idx)} schools in the selected area.\")"
      ]
    },
    {
      "cell_type": "markdown",
      "metadata": {
        "id": "-i7KXUWE106Y"
      },
      "source": [
        "## Create line of sight (LOS) graph"
      ]
    },
    {
      "cell_type": "markdown",
      "metadata": {
        "id": "8Z9hYuBAJsO_"
      },
      "source": [
        "This is where we build our network model:\n",
        "\n",
        "- The `haversine` function calculates distances between points on Earth's surface\n",
        "- The `generate_all_index_pairs` function creates possible connections between locations\n",
        "- The `create_line_of_sight_graph` function builds a network graph where:\n",
        "    - Nodes represent schools and fiber points\n",
        "    - Edges represent possible connections\n",
        "    - Edge weights are distances in meters"
      ]
    },
    {
      "cell_type": "code",
      "execution_count": 15,
      "metadata": {
        "id": "wKM98INB1vob"
      },
      "outputs": [],
      "source": [
        "def haversine(lats, lons, R=6371.0, upper_tri=False):\n",
        "    \"\"\"Calculate great circle distances between points on Earth using the Haversine formula.\n",
        "\n",
        "    The Haversine formula determines the great-circle distance between two points on a sphere\n",
        "    given their longitudes and latitudes.\n",
        "\n",
        "    Args:\n",
        "        lats (array-like): Array of latitude values in decimal degrees\n",
        "        lons (array-like): Array of longitude values in decimal degrees\n",
        "        R (float, optional): Earth's radius in kilometers. Defaults to 6371.0 km\n",
        "        upper_tri (bool, optional): If True, returns only upper triangular part of distance matrix\n",
        "\n",
        "    Returns:\n",
        "        ndarray: Distance matrix in kilometers (full or upper triangular based on upper_tri)\n",
        "    \"\"\"\n",
        "    # Convert latitude and longitude to radians for trigonometric calculations\n",
        "    lat_rads = np.radians(lats)\n",
        "    lon_rads = np.radians(lons)\n",
        "\n",
        "    # Create distance matrix using broadcasting\n",
        "    # Each element (i,j) will be distance between points i and j\n",
        "    dlat = lat_rads[:, np.newaxis] - lat_rads[np.newaxis, :]  # Latitude differences\n",
        "    dlon = lon_rads[:, np.newaxis] - lon_rads[np.newaxis, :]  # Longitude differences\n",
        "\n",
        "    # Haversine formula components\n",
        "    a = (np.sin(dlat/2)**2 +\n",
        "         np.cos(lat_rads[:, np.newaxis]) *\n",
        "         np.cos(lat_rads[np.newaxis, :]) *\n",
        "         np.sin(dlon/2)**2)\n",
        "    c = 2 * np.arctan2(np.sqrt(a), np.sqrt(1-a))\n",
        "\n",
        "    # Calculate final distances\n",
        "    distances = R * c\n",
        "\n",
        "    # Return only upper triangular part if requested\n",
        "    if upper_tri:\n",
        "        i_upper = np.triu_indices(distances.shape[0], k=1)\n",
        "        distances = distances[i_upper]\n",
        "\n",
        "    return distances\n",
        "\n",
        "def generate_all_index_pairs(vals):\n",
        "    \"\"\"Generate all possible pairs of indices from a list of values.\n",
        "\n",
        "    Creates unique combinations of indices without repetition and without order\n",
        "    (i.e., (a,b) but not (b,a)).\n",
        "\n",
        "    Args:\n",
        "        vals (list): List of values to generate pairs from\n",
        "\n",
        "    Returns:\n",
        "        tuple: Two lists containing paired indices (origin_nodes, destination_nodes)\n",
        "    \"\"\"\n",
        "    # Generate unique pairs using itertools.combinations\n",
        "    # This ensures no duplicate pairs and no self-pairs\n",
        "    index_pairs = itertools.combinations(vals, 2)\n",
        "\n",
        "    # Split pairs into separate lists for origin and destination\n",
        "    orig_nodes, dest_nodes = zip(*index_pairs)\n",
        "\n",
        "    return orig_nodes, dest_nodes\n",
        "\n",
        "def create_line_of_sight_graph(locations):\n",
        "    \"\"\"Create a graph representing line-of-sight connections between locations.\n",
        "\n",
        "    Builds an undirected graph where edges represent potential connections between\n",
        "    locations, weighted by their geodesic distances.\n",
        "\n",
        "    Args:\n",
        "        locations (DataFrame): DataFrame containing 'lat' and 'lon' columns\n",
        "\n",
        "    Returns:\n",
        "        networkx.Graph: Undirected graph with weighted edges representing distances\n",
        "    \"\"\"\n",
        "    # Get all possible pairs of location indices\n",
        "    orig_nodes, dest_nodes = generate_all_index_pairs(locations.index)\n",
        "\n",
        "    # Calculate distances in meters (converting km to m by multiplying by 1000)\n",
        "    distances = haversine(\n",
        "        locations.lat.to_numpy(),\n",
        "        locations.lon.to_numpy(),\n",
        "        upper_tri=True\n",
        "    ) * 1000\n",
        "\n",
        "    # Create undirected graph and add weighted edges\n",
        "    graph = nx.Graph()\n",
        "    graph.add_weighted_edges_from(zip(orig_nodes, dest_nodes, distances))\n",
        "\n",
        "    return graph\n",
        "\n",
        "def draw_graph_with_connected_nodes(graph, connected, figsize=(10, 10)):\n",
        "    \"\"\"Visualize network graph with highlighted connected nodes.\n",
        "\n",
        "    Creates a visualization where nodes are colored based on their connection status\n",
        "    and includes a legend for node types.\n",
        "\n",
        "    Args:\n",
        "        graph (networkx.Graph): Network graph to visualize\n",
        "        connected (set or list): Nodes that are connected/transmission nodes\n",
        "        figsize (tuple, optional): Figure size. Defaults to (10, 10)\n",
        "    \"\"\"\n",
        "    plt.figure(figsize=figsize)\n",
        "\n",
        "    # Calculate spring layout for node positions\n",
        "    pos = nx.spring_layout(graph)\n",
        "\n",
        "    # Ensure connected is a set for efficient lookup\n",
        "    connected = set(connected) if not isinstance(connected, set) else connected\n",
        "\n",
        "    # Color nodes based on connection status\n",
        "    node_colors = ['red' if node in connected else 'skyblue' for node in graph.nodes()]\n",
        "\n",
        "    # Draw the network\n",
        "    nx.draw(graph,\n",
        "           pos=pos,\n",
        "           with_labels=False,\n",
        "           node_size=300,\n",
        "           node_color=node_colors,\n",
        "           font_size=10,\n",
        "           font_color='black',\n",
        "           edge_color='gray')\n",
        "\n",
        "    # Create and add legend\n",
        "    legend_elements = [\n",
        "        plt.Line2D([0], [0], marker='o', color='w',\n",
        "                   label='Transmission Node', markerfacecolor='red', markersize=10),\n",
        "        plt.Line2D([0], [0], marker='o', color='w',\n",
        "                   label='School', markerfacecolor='skyblue', markersize=10)\n",
        "    ]\n",
        "\n",
        "    plt.legend(handles=legend_elements, loc='upper right')\n",
        "    plt.title(\"Line of Sight Graph with Connected Nodes\")\n",
        "    plt.show()"
      ]
    },
    {
      "cell_type": "code",
      "execution_count": 16,
      "metadata": {
        "id": "2EKsFog22AJK"
      },
      "outputs": [],
      "source": [
        "graph = create_line_of_sight_graph(filtered_locations)"
      ]
    },
    {
      "cell_type": "code",
      "execution_count": null,
      "metadata": {
        "colab": {
          "base_uri": "https://localhost:8080/",
          "height": 1000
        },
        "id": "n6wqOMj7JsPA",
        "outputId": "a05e91c8-c373-453e-af66-9eb486681643"
      },
      "outputs": [],
      "source": [
        "draw_graph_with_connected_nodes(graph, connected_idx)"
      ]
    },
    {
      "cell_type": "markdown",
      "metadata": {
        "id": "OJsYfVem5Ucm"
      },
      "source": [
        "## Connect unconnected schools"
      ]
    },
    {
      "cell_type": "markdown",
      "metadata": {
        "id": "2YiVvYjCJsPA"
      },
      "source": [
        "This section implements the core algorithm for connecting schools to the fiber network:\n",
        "\n",
        "1. Identifies the closest transmission node for each school\n",
        "2. Uses a priority queue to process connections in order of shortest distance\n",
        "3. Iteratively builds connections while respecting maximum distance constraints\n",
        "4. Tracks the path and distance information for each connection"
      ]
    },
    {
      "cell_type": "code",
      "execution_count": 18,
      "metadata": {
        "id": "q19YQ84D7XUo"
      },
      "outputs": [],
      "source": [
        "def connect_schools(locations, connected_idx, max_connection_length, graph_, scale_economies=True):\n",
        "    \"\"\"\n",
        "    Connects unconnected schools to the nearest connected school dynamically using the given graph.\n",
        "    Returns a DataFrame containing the fiber path information for each school.\n",
        "\n",
        "    Args:\n",
        "        locations : DataFrame of all locations where the index is the location identifier.\n",
        "        connected_idx: List of indices that are either fiber nodes or points connected with fiber.\n",
        "        max_connection_length: Maximum length of cable that can be used to connect an unconnected location.\n",
        "        graph_ : Networkx graph object representing the line of sight graph.\n",
        "        scale_economies: If True, the algorithm will enable connected schools to act as fiber nodes to extend the connection.\n",
        "\n",
        "    Returns:\n",
        "        fiber_path_df (DataFrame): DataFrame containing the fiber path and other information for each school that is connected to the network.\n",
        "        connected_idx (set): Updated set of connected school indices after connection.\n",
        "    \"\"\"\n",
        "\n",
        "    # Copy the list of connected indices and initialize sets of connected and unconnected indices\n",
        "    connected_idx_cache = connected_idx\n",
        "    connected_idx = set(connected_idx)\n",
        "    unconnected_idx = set(locations.index) - connected_idx\n",
        "    initial_unconnected = len(unconnected_idx)\n",
        "\n",
        "    # Generate pairs of unconnected and connected school indices for shortest path calculations\n",
        "    ind = itertools.product(unconnected_idx, connected_idx)\n",
        "    orig_nodes, dest_nodes = zip(*ind)\n",
        "\n",
        "    # Calculate shortest path lengths between each unconnected and connected school\n",
        "    sp_lengths = []\n",
        "    print(\"Calculating shortest path lengths...\")\n",
        "    for orig_node, dest_node in tqdm(zip(orig_nodes, dest_nodes), total=len(orig_nodes)):\n",
        "        sp_lengths.append(nx.shortest_path_length(graph_, orig_node, dest_node, weight='weight'))\n",
        "\n",
        "    # Reshape distances into a matrix to find the closest connected school for each unconnected school\n",
        "    dist_to_connected = np.array(sp_lengths).reshape(len(unconnected_idx), len(connected_idx))\n",
        "    closest_connected_id = connected_idx_cache[np.argmin(dist_to_connected, axis=1)]\n",
        "    closest_connected_distance = np.min(dist_to_connected, axis=1)\n",
        "\n",
        "    # Create a dictionary to store fiber path information for each school\n",
        "    fiber_path_dict = dict.fromkeys(locations.index)\n",
        "\n",
        "    # Initialize fiber path data for schools that are already connected\n",
        "    fiber_path_dict.update({idx: dict(\n",
        "                                closest_node_id=idx,\n",
        "                                closest_node_distance=0,\n",
        "                                connected_node_id=idx,\n",
        "                                connected_node_distance=0,\n",
        "                                fiber_path=[]\n",
        "                            ) for idx in connected_idx})\n",
        "\n",
        "    # Initialize path information for unconnected schools with nearest connected school details\n",
        "    fiber_path_dict.update([(idx, dict(\n",
        "                                closest_node_id=closest_connected_id[i],\n",
        "                                closest_node_distance=closest_connected_distance[i],\n",
        "                                connected_node_id='',\n",
        "                                connected_node_distance=0,\n",
        "                                fiber_path=[]\n",
        "                            )) for i, idx in enumerate(unconnected_idx)])\n",
        "\n",
        "    # Initialize a priority queue to hold possible connections below the maximum cable length\n",
        "    queue = []\n",
        "    for d_ in zip(sp_lengths, orig_nodes, dest_nodes):\n",
        "        if d_[0] <= max_connection_length:\n",
        "            heapq.heappush(queue, d_)\n",
        "\n",
        "    # Main loop to iteratively connect each unconnected school to the network\n",
        "    print(\"Connecting schools...\")\n",
        "\n",
        "    # Initialize progress bar for connected schools\n",
        "    with tqdm(total=len(unconnected_idx), desc=\"Schools Connected\") as pbar:\n",
        "        while queue:\n",
        "            # Get the shortest valid connection from the priority queue\n",
        "            min_dist, min_node, upstream_node = heapq.heappop(queue)\n",
        "\n",
        "            # If the node is already connected, skip to the next\n",
        "            if min_node in connected_idx:\n",
        "                continue\n",
        "\n",
        "            # If the connection is within the allowed distance, add it to the connected set\n",
        "            if min_dist <= max_connection_length:\n",
        "                connected_idx.add(min_node)\n",
        "                unconnected_idx.remove(min_node)\n",
        "\n",
        "                # Update fiber path information for the newly connected node\n",
        "                fiber_path_dict[min_node].update(\n",
        "                    connected_node_id=fiber_path_dict[upstream_node]['connected_node_id'],\n",
        "                    connected_node_distance=nx.shortest_path_length(graph_, min_node, upstream_node, weight='weight') + fiber_path_dict[upstream_node]['connected_node_distance'],\n",
        "                    upstream_node_id=upstream_node,\n",
        "                    upstream_node_distance=min_dist,\n",
        "                    fiber_path=fiber_path_dict[upstream_node]['fiber_path'] + [upstream_node]\n",
        "                )\n",
        "\n",
        "                # Update the progress bar\n",
        "                pbar.update(1)\n",
        "\n",
        "                # Exit if all schools are connected\n",
        "                if len(unconnected_idx) == 0:\n",
        "                    break\n",
        "\n",
        "                # Only process new connections if scale_economies is True\n",
        "                if scale_economies:\n",
        "                    # Generate new connections from the newly connected node to remaining unconnected schools\n",
        "                    ind = itertools.product(unconnected_idx, [min_node])\n",
        "                    orig_nodes, dest_nodes = zip(*ind)\n",
        "\n",
        "                    # Calculate shortest path lengths for new possible connections\n",
        "                    new_sp_lengths = []\n",
        "                    for orig_node, dest_node in zip(orig_nodes, dest_nodes):\n",
        "                        new_sp_lengths.append(nx.shortest_path_length(graph_, orig_node, dest_node, weight='weight'))\n",
        "\n",
        "                    # Add new valid connections to the priority queue\n",
        "                    for d_ in zip(new_sp_lengths, orig_nodes, dest_nodes):\n",
        "                        if d_[0] <= max_connection_length:\n",
        "                            heapq.heappush(queue, d_)\n",
        "\n",
        "    # Convert the fiber path dictionary to a DataFrame for easy handling\n",
        "    fiber_path_df = pd.DataFrame(fiber_path_dict.values(), index=fiber_path_dict.keys())\n",
        "    return fiber_path_df, connected_idx"
      ]
    },
    {
      "cell_type": "code",
      "execution_count": null,
      "metadata": {
        "colab": {
          "base_uri": "https://localhost:8080/"
        },
        "id": "4zB0JQI47mzX",
        "outputId": "414396ff-bf17-406c-b06a-9341d1da5377"
      },
      "outputs": [],
      "source": [
        "fiber_path_df, fiber_path_connected_idx = connect_schools(filtered_locations, connected_idx, maximum_connection_length.value * 1000, graph, scale_economies=True)"
      ]
    },
    {
      "cell_type": "code",
      "execution_count": null,
      "metadata": {
        "colab": {
          "base_uri": "https://localhost:8080/",
          "height": 730
        },
        "id": "4Dzc2eOHJsPB",
        "outputId": "0df7c2e7-db3d-43b1-ef57-3b1320256247"
      },
      "outputs": [],
      "source": [
        "fiber_path_df.head(10)"
      ]
    },
    {
      "cell_type": "markdown",
      "metadata": {
        "id": "9cctUDe-AKp_"
      },
      "source": [
        "## Visualise the fiber path solution"
      ]
    },
    {
      "cell_type": "markdown",
      "metadata": {
        "id": "nn6sJ5M7JsPB"
      },
      "source": [
        "Finally, we create an interactive map visualization showing the connections made by the algorithm."
      ]
    },
    {
      "cell_type": "code",
      "execution_count": 21,
      "metadata": {
        "cellView": "form",
        "id": "xMmtWXesAKSj"
      },
      "outputs": [],
      "source": [
        "def create_simple_network_map(locations, df_results):\n",
        "    # Create map\n",
        "    m = folium.Map(\n",
        "        location=[locations['lat'].mean(), locations['lon'].mean()],\n",
        "        zoom_start=14\n",
        "    )\n",
        "\n",
        "    # Add points and connections\n",
        "    for idx, row in locations.iterrows():\n",
        "        color = 'red' if row['label'] == 'unconnected_school' else 'blue'\n",
        "        folium.CircleMarker([row['lat'], row['lon']],\n",
        "                          radius=5,\n",
        "                          color=color,\n",
        "                          fill=True).add_to(m)\n",
        "\n",
        "    for _, row in df_results.iterrows():\n",
        "        if not np.isnan(row.get('upstream_node_distance', np.nan)):\n",
        "            source_loc = locations.loc[row.name]\n",
        "            target_loc = locations.loc[row['upstream_node_id']]\n",
        "            folium.PolyLine([[source_loc['lat'], source_loc['lon']],\n",
        "                            [target_loc['lat'], target_loc['lon']]],\n",
        "                           color='purple',\n",
        "                           weight=2).add_to(m)\n",
        "\n",
        "    # Add legend with colored symbols\n",
        "    legend = \"\"\"\n",
        "    <div style=\"\n",
        "        position: absolute;\n",
        "        top: 10px;\n",
        "        right: 10px;\n",
        "        z-index: 9999;\n",
        "        background-color: white;\n",
        "        padding: 10px;\n",
        "        border: 2px solid black;\n",
        "        border-radius: 5px;\n",
        "        \">\n",
        "        <div><span style=\"color:red\">●</span> Unconnected Schools</div>\n",
        "        <div><span style=\"color:blue\">●</span> Fiber Nodes</div>\n",
        "        <div><span style=\"color:purple\">━</span> Connections</div>\n",
        "    </div>\n",
        "    \"\"\"\n",
        "    m.get_root().html.add_child(folium.Element(legend))\n",
        "\n",
        "    return m"
      ]
    },
    {
      "cell_type": "code",
      "execution_count": null,
      "metadata": {
        "colab": {
          "base_uri": "https://localhost:8080/",
          "height": 667
        },
        "id": "4vZXMs32JsPB",
        "outputId": "1adfe87a-ab72-47f0-c3ce-b063130a30fc"
      },
      "outputs": [],
      "source": [
        "map_viz = create_simple_network_map(filtered_locations, fiber_path_df)\n",
        "map_viz"
      ]
    }
  ],
  "metadata": {
    "colab": {
      "include_colab_link": true,
      "provenance": [],
      "toc_visible": true
    },
    "kernelspec": {
      "display_name": "inframaptraining",
      "language": "python",
      "name": "python3"
    },
    "language_info": {
      "codemirror_mode": {
        "name": "ipython",
        "version": 3
      },
      "file_extension": ".py",
      "mimetype": "text/x-python",
      "name": "python",
      "nbconvert_exporter": "python",
      "pygments_lexer": "ipython3",
      "version": "3.9.20"
    },
    "widgets": {
      "application/vnd.jupyter.widget-state+json": {
        "01eea14fcc7b4190a2254af624017756": {
          "model_module": "@jupyter-widgets/controls",
          "model_module_version": "1.5.0",
          "model_name": "DescriptionStyleModel",
          "state": {
            "_model_module": "@jupyter-widgets/controls",
            "_model_module_version": "1.5.0",
            "_model_name": "DescriptionStyleModel",
            "_view_count": null,
            "_view_module": "@jupyter-widgets/base",
            "_view_module_version": "1.2.0",
            "_view_name": "StyleView",
            "description_width": "initial"
          }
        },
        "055f6b19c07b46ee9955a9e9eb844665": {
          "model_module": "@jupyter-widgets/base",
          "model_module_version": "1.2.0",
          "model_name": "LayoutModel",
          "state": {
            "_model_module": "@jupyter-widgets/base",
            "_model_module_version": "1.2.0",
            "_model_name": "LayoutModel",
            "_view_count": null,
            "_view_module": "@jupyter-widgets/base",
            "_view_module_version": "1.2.0",
            "_view_name": "LayoutView",
            "align_content": null,
            "align_items": null,
            "align_self": null,
            "border": null,
            "bottom": null,
            "display": null,
            "flex": null,
            "flex_flow": null,
            "grid_area": null,
            "grid_auto_columns": null,
            "grid_auto_flow": null,
            "grid_auto_rows": null,
            "grid_column": null,
            "grid_gap": null,
            "grid_row": null,
            "grid_template_areas": null,
            "grid_template_columns": null,
            "grid_template_rows": null,
            "height": null,
            "justify_content": "space-between",
            "justify_items": null,
            "left": null,
            "margin": null,
            "max_height": null,
            "max_width": null,
            "min_height": null,
            "min_width": null,
            "object_fit": null,
            "object_position": null,
            "order": null,
            "overflow": null,
            "overflow_x": null,
            "overflow_y": null,
            "padding": null,
            "right": null,
            "top": null,
            "visibility": null,
            "width": null
          }
        },
        "10ed653babbc4402830c681f18e73592": {
          "model_module": "@jupyter-widgets/controls",
          "model_module_version": "1.5.0",
          "model_name": "DropdownModel",
          "state": {
            "_dom_classes": [],
            "_model_module": "@jupyter-widgets/controls",
            "_model_module_version": "1.5.0",
            "_model_name": "DropdownModel",
            "_options_labels": [
              "Aruba",
              "Afghanistan",
              "Angola",
              "Anguilla",
              "Åland Islands",
              "Albania",
              "Andorra",
              "United Arab Emirates",
              "Argentina",
              "Armenia",
              "American Samoa",
              "Antarctica",
              "French Southern Territories",
              "Antigua and Barbuda",
              "Australia",
              "Austria",
              "Azerbaijan",
              "Burundi",
              "Belgium",
              "Benin",
              "Bonaire, Sint Eustatius and Saba",
              "Burkina Faso",
              "Bangladesh",
              "Bulgaria",
              "Bahrain",
              "Bahamas",
              "Bosnia and Herzegovina",
              "Saint Barthélemy",
              "Belarus",
              "Belize",
              "Bermuda",
              "Bolivia, Plurinational State of",
              "Brazil",
              "Barbados",
              "Brunei Darussalam",
              "Bhutan",
              "Bouvet Island",
              "Botswana",
              "Central African Republic",
              "Canada",
              "Cocos (Keeling) Islands",
              "Switzerland",
              "Chile",
              "China",
              "Côte d'Ivoire",
              "Cameroon",
              "Congo, The Democratic Republic of the",
              "Congo",
              "Cook Islands",
              "Colombia",
              "Comoros",
              "Cabo Verde",
              "Costa Rica",
              "Cuba",
              "Curaçao",
              "Christmas Island",
              "Cayman Islands",
              "Cyprus",
              "Czechia",
              "Germany",
              "Djibouti",
              "Dominica",
              "Denmark",
              "Dominican Republic",
              "Algeria",
              "Ecuador",
              "Egypt",
              "Eritrea",
              "Western Sahara",
              "Spain",
              "Estonia",
              "Ethiopia",
              "Finland",
              "Fiji",
              "Falkland Islands (Malvinas)",
              "France",
              "Faroe Islands",
              "Micronesia, Federated States of",
              "Gabon",
              "United Kingdom",
              "Georgia",
              "Guernsey",
              "Ghana",
              "Gibraltar",
              "Guinea",
              "Guadeloupe",
              "Gambia",
              "Guinea-Bissau",
              "Equatorial Guinea",
              "Greece",
              "Grenada",
              "Greenland",
              "Guatemala",
              "French Guiana",
              "Guam",
              "Guyana",
              "Hong Kong",
              "Heard Island and McDonald Islands",
              "Honduras",
              "Croatia",
              "Haiti",
              "Hungary",
              "Indonesia",
              "Isle of Man",
              "India",
              "British Indian Ocean Territory",
              "Ireland",
              "Iran, Islamic Republic of",
              "Iraq",
              "Iceland",
              "Israel",
              "Italy",
              "Jamaica",
              "Jersey",
              "Jordan",
              "Japan",
              "Kazakhstan",
              "Kenya",
              "Kyrgyzstan",
              "Cambodia",
              "Kiribati",
              "Saint Kitts and Nevis",
              "Korea, Republic of",
              "Kuwait",
              "Lao People's Democratic Republic",
              "Lebanon",
              "Liberia",
              "Libya",
              "Saint Lucia",
              "Liechtenstein",
              "Sri Lanka",
              "Lesotho",
              "Lithuania",
              "Luxembourg",
              "Latvia",
              "Macao",
              "Saint Martin (French part)",
              "Morocco",
              "Monaco",
              "Moldova, Republic of",
              "Madagascar",
              "Maldives",
              "Mexico",
              "Marshall Islands",
              "North Macedonia",
              "Mali",
              "Malta",
              "Myanmar",
              "Montenegro",
              "Mongolia",
              "Northern Mariana Islands",
              "Mozambique",
              "Mauritania",
              "Montserrat",
              "Martinique",
              "Mauritius",
              "Malawi",
              "Malaysia",
              "Mayotte",
              "Namibia",
              "New Caledonia",
              "Niger",
              "Norfolk Island",
              "Nigeria",
              "Nicaragua",
              "Niue",
              "Netherlands",
              "Norway",
              "Nepal",
              "Nauru",
              "New Zealand",
              "Oman",
              "Pakistan",
              "Panama",
              "Pitcairn",
              "Peru",
              "Philippines",
              "Palau",
              "Papua New Guinea",
              "Poland",
              "Puerto Rico",
              "Korea, Democratic People's Republic of",
              "Portugal",
              "Paraguay",
              "Palestine, State of",
              "French Polynesia",
              "Qatar",
              "Réunion",
              "Romania",
              "Russian Federation",
              "Rwanda",
              "Saudi Arabia",
              "Sudan",
              "Senegal",
              "Singapore",
              "South Georgia and the South Sandwich Islands",
              "Saint Helena, Ascension and Tristan da Cunha",
              "Svalbard and Jan Mayen",
              "Solomon Islands",
              "Sierra Leone",
              "El Salvador",
              "San Marino",
              "Somalia",
              "Saint Pierre and Miquelon",
              "Serbia",
              "South Sudan",
              "Sao Tome and Principe",
              "Suriname",
              "Slovakia",
              "Slovenia",
              "Sweden",
              "Eswatini",
              "Sint Maarten (Dutch part)",
              "Seychelles",
              "Syrian Arab Republic",
              "Turks and Caicos Islands",
              "Chad",
              "Togo",
              "Thailand",
              "Tajikistan",
              "Tokelau",
              "Turkmenistan",
              "Timor-Leste",
              "Tonga",
              "Trinidad and Tobago",
              "Tunisia",
              "Türkiye",
              "Tuvalu",
              "Taiwan, Province of China",
              "Tanzania, United Republic of",
              "Uganda",
              "Ukraine",
              "United States Minor Outlying Islands",
              "Uruguay",
              "United States",
              "Uzbekistan",
              "Holy See (Vatican City State)",
              "Saint Vincent and the Grenadines",
              "Venezuela, Bolivarian Republic of",
              "Virgin Islands, British",
              "Virgin Islands, U.S.",
              "Viet Nam",
              "Vanuatu",
              "Wallis and Futuna",
              "Samoa",
              "Yemen",
              "South Africa",
              "Zambia",
              "Zimbabwe"
            ],
            "_view_count": null,
            "_view_module": "@jupyter-widgets/controls",
            "_view_module_version": "1.5.0",
            "_view_name": "DropdownView",
            "description": "Country:",
            "description_tooltip": null,
            "disabled": false,
            "index": 64,
            "layout": "IPY_MODEL_c26bb539d9ad4f60ac56c27823d7c0e3",
            "style": "IPY_MODEL_e2dd762dc43947ce9d7f69af0efaf0c5"
          }
        },
        "19262ec7d37d450a92ed8730add2d961": {
          "model_module": "@jupyter-widgets/controls",
          "model_module_version": "1.5.0",
          "model_name": "HBoxModel",
          "state": {
            "_dom_classes": [],
            "_model_module": "@jupyter-widgets/controls",
            "_model_module_version": "1.5.0",
            "_model_name": "HBoxModel",
            "_view_count": null,
            "_view_module": "@jupyter-widgets/controls",
            "_view_module_version": "1.5.0",
            "_view_name": "HBoxView",
            "box_style": "",
            "children": [
              "IPY_MODEL_10ed653babbc4402830c681f18e73592"
            ],
            "layout": "IPY_MODEL_055f6b19c07b46ee9955a9e9eb844665"
          }
        },
        "19ede0fe4d8941fc98a25554be82df19": {
          "model_module": "@jupyter-widgets/base",
          "model_module_version": "1.2.0",
          "model_name": "LayoutModel",
          "state": {
            "_model_module": "@jupyter-widgets/base",
            "_model_module_version": "1.2.0",
            "_model_name": "LayoutModel",
            "_view_count": null,
            "_view_module": "@jupyter-widgets/base",
            "_view_module_version": "1.2.0",
            "_view_name": "LayoutView",
            "align_content": null,
            "align_items": "center",
            "align_self": null,
            "border": null,
            "bottom": null,
            "display": "flex",
            "flex": "1 1 auto",
            "flex_flow": "row wrap",
            "grid_area": null,
            "grid_auto_columns": null,
            "grid_auto_flow": null,
            "grid_auto_rows": null,
            "grid_column": null,
            "grid_gap": null,
            "grid_row": null,
            "grid_template_areas": null,
            "grid_template_columns": null,
            "grid_template_rows": null,
            "height": null,
            "justify_content": "space-between",
            "justify_items": null,
            "left": null,
            "margin": null,
            "max_height": null,
            "max_width": null,
            "min_height": null,
            "min_width": "20px",
            "object_fit": null,
            "object_position": null,
            "order": null,
            "overflow": null,
            "overflow_x": null,
            "overflow_y": null,
            "padding": null,
            "right": null,
            "top": null,
            "visibility": null,
            "width": "auto"
          }
        },
        "1cb272c4ff1c414ca8cb03081c7f0fc7": {
          "model_module": "@jupyter-widgets/controls",
          "model_module_version": "1.5.0",
          "model_name": "DropdownModel",
          "state": {
            "_dom_classes": [],
            "_model_module": "@jupyter-widgets/controls",
            "_model_module_version": "1.5.0",
            "_model_name": "DropdownModel",
            "_options_labels": [
              "Sidi Bel Abbes"
            ],
            "_view_count": null,
            "_view_module": "@jupyter-widgets/controls",
            "_view_module_version": "1.5.0",
            "_view_name": "DropdownView",
            "description": "City:",
            "description_tooltip": null,
            "disabled": false,
            "index": 0,
            "layout": "IPY_MODEL_692f278825344221b321caba7cc31c7a",
            "style": "IPY_MODEL_01eea14fcc7b4190a2254af624017756"
          }
        },
        "1ddac739d05643a39069bcf83c74ac89": {
          "model_module": "@jupyter-widgets/base",
          "model_module_version": "1.2.0",
          "model_name": "LayoutModel",
          "state": {
            "_model_module": "@jupyter-widgets/base",
            "_model_module_version": "1.2.0",
            "_model_name": "LayoutModel",
            "_view_count": null,
            "_view_module": "@jupyter-widgets/base",
            "_view_module_version": "1.2.0",
            "_view_name": "LayoutView",
            "align_content": null,
            "align_items": null,
            "align_self": null,
            "border": null,
            "bottom": null,
            "display": null,
            "flex": null,
            "flex_flow": null,
            "grid_area": null,
            "grid_auto_columns": null,
            "grid_auto_flow": null,
            "grid_auto_rows": null,
            "grid_column": null,
            "grid_gap": null,
            "grid_row": null,
            "grid_template_areas": null,
            "grid_template_columns": null,
            "grid_template_rows": null,
            "height": null,
            "justify_content": null,
            "justify_items": null,
            "left": null,
            "margin": null,
            "max_height": null,
            "max_width": null,
            "min_height": null,
            "min_width": null,
            "object_fit": null,
            "object_position": null,
            "order": null,
            "overflow": null,
            "overflow_x": null,
            "overflow_y": null,
            "padding": null,
            "right": null,
            "top": null,
            "visibility": null,
            "width": null
          }
        },
        "1e3355826fbe44c3baab4ab61b7445a4": {
          "model_module": "@jupyter-widgets/controls",
          "model_module_version": "1.5.0",
          "model_name": "HBoxModel",
          "state": {
            "_dom_classes": [],
            "_model_module": "@jupyter-widgets/controls",
            "_model_module_version": "1.5.0",
            "_model_name": "HBoxModel",
            "_view_count": null,
            "_view_module": "@jupyter-widgets/controls",
            "_view_module_version": "1.5.0",
            "_view_name": "HBoxView",
            "box_style": "",
            "children": [
              "IPY_MODEL_1cb272c4ff1c414ca8cb03081c7f0fc7"
            ],
            "layout": "IPY_MODEL_d7300b77566748f1bf110db14e340501"
          }
        },
        "2dd56c2e01184c80aef96e78ff15db1f": {
          "model_module": "@jupyter-widgets/controls",
          "model_module_version": "1.5.0",
          "model_name": "VBoxModel",
          "state": {
            "_dom_classes": [],
            "_model_module": "@jupyter-widgets/controls",
            "_model_module_version": "1.5.0",
            "_model_name": "VBoxModel",
            "_view_count": null,
            "_view_module": "@jupyter-widgets/controls",
            "_view_module_version": "1.5.0",
            "_view_name": "VBoxView",
            "box_style": "",
            "children": [
              "IPY_MODEL_1e3355826fbe44c3baab4ab61b7445a4"
            ],
            "layout": "IPY_MODEL_3566e861d99841528579c3f490d6e276"
          }
        },
        "3566e861d99841528579c3f490d6e276": {
          "model_module": "@jupyter-widgets/base",
          "model_module_version": "1.2.0",
          "model_name": "LayoutModel",
          "state": {
            "_model_module": "@jupyter-widgets/base",
            "_model_module_version": "1.2.0",
            "_model_name": "LayoutModel",
            "_view_count": null,
            "_view_module": "@jupyter-widgets/base",
            "_view_module_version": "1.2.0",
            "_view_name": "LayoutView",
            "align_content": null,
            "align_items": null,
            "align_self": null,
            "border": null,
            "bottom": null,
            "display": null,
            "flex": null,
            "flex_flow": null,
            "grid_area": null,
            "grid_auto_columns": null,
            "grid_auto_flow": null,
            "grid_auto_rows": null,
            "grid_column": null,
            "grid_gap": null,
            "grid_row": null,
            "grid_template_areas": null,
            "grid_template_columns": null,
            "grid_template_rows": null,
            "height": null,
            "justify_content": null,
            "justify_items": null,
            "left": null,
            "margin": null,
            "max_height": null,
            "max_width": null,
            "min_height": null,
            "min_width": null,
            "object_fit": null,
            "object_position": null,
            "order": null,
            "overflow": null,
            "overflow_x": null,
            "overflow_y": null,
            "padding": null,
            "right": null,
            "top": null,
            "visibility": null,
            "width": null
          }
        },
        "568a7386b6b64acf82ad9391c8424fb6": {
          "model_module": "@jupyter-widgets/controls",
          "model_module_version": "1.5.0",
          "model_name": "FloatSliderModel",
          "state": {
            "_dom_classes": [],
            "_model_module": "@jupyter-widgets/controls",
            "_model_module_version": "1.5.0",
            "_model_name": "FloatSliderModel",
            "_view_count": null,
            "_view_module": "@jupyter-widgets/controls",
            "_view_module_version": "1.5.0",
            "_view_name": "FloatSliderView",
            "continuous_update": true,
            "description": "Maximum Connection Length (km):",
            "description_tooltip": null,
            "disabled": false,
            "layout": "IPY_MODEL_19ede0fe4d8941fc98a25554be82df19",
            "max": 100,
            "min": 0,
            "orientation": "horizontal",
            "readout": true,
            "readout_format": ".2f",
            "step": 1,
            "style": "IPY_MODEL_f2667673e98048a9b43a85075abb6490",
            "value": 15
          }
        },
        "692f278825344221b321caba7cc31c7a": {
          "model_module": "@jupyter-widgets/base",
          "model_module_version": "1.2.0",
          "model_name": "LayoutModel",
          "state": {
            "_model_module": "@jupyter-widgets/base",
            "_model_module_version": "1.2.0",
            "_model_name": "LayoutModel",
            "_view_count": null,
            "_view_module": "@jupyter-widgets/base",
            "_view_module_version": "1.2.0",
            "_view_name": "LayoutView",
            "align_content": null,
            "align_items": "center",
            "align_self": null,
            "border": null,
            "bottom": null,
            "display": "flex",
            "flex": "1 1 auto",
            "flex_flow": "row wrap",
            "grid_area": null,
            "grid_auto_columns": null,
            "grid_auto_flow": null,
            "grid_auto_rows": null,
            "grid_column": null,
            "grid_gap": null,
            "grid_row": null,
            "grid_template_areas": null,
            "grid_template_columns": null,
            "grid_template_rows": null,
            "height": null,
            "justify_content": "space-between",
            "justify_items": null,
            "left": null,
            "margin": null,
            "max_height": null,
            "max_width": null,
            "min_height": null,
            "min_width": "20px",
            "object_fit": null,
            "object_position": null,
            "order": null,
            "overflow": null,
            "overflow_x": null,
            "overflow_y": null,
            "padding": null,
            "right": null,
            "top": null,
            "visibility": null,
            "width": "auto"
          }
        },
        "7534183b206b45cabcd58bf7e1e2fc63": {
          "model_module": "@jupyter-widgets/base",
          "model_module_version": "1.2.0",
          "model_name": "LayoutModel",
          "state": {
            "_model_module": "@jupyter-widgets/base",
            "_model_module_version": "1.2.0",
            "_model_name": "LayoutModel",
            "_view_count": null,
            "_view_module": "@jupyter-widgets/base",
            "_view_module_version": "1.2.0",
            "_view_name": "LayoutView",
            "align_content": null,
            "align_items": null,
            "align_self": null,
            "border": null,
            "bottom": null,
            "display": null,
            "flex": null,
            "flex_flow": null,
            "grid_area": null,
            "grid_auto_columns": null,
            "grid_auto_flow": null,
            "grid_auto_rows": null,
            "grid_column": null,
            "grid_gap": null,
            "grid_row": null,
            "grid_template_areas": null,
            "grid_template_columns": null,
            "grid_template_rows": null,
            "height": null,
            "justify_content": "space-between",
            "justify_items": null,
            "left": null,
            "margin": null,
            "max_height": null,
            "max_width": null,
            "min_height": null,
            "min_width": null,
            "object_fit": null,
            "object_position": null,
            "order": null,
            "overflow": null,
            "overflow_x": null,
            "overflow_y": null,
            "padding": null,
            "right": null,
            "top": null,
            "visibility": null,
            "width": null
          }
        },
        "93f490dca07f45c3a1513f4968908ad2": {
          "model_module": "@jupyter-widgets/controls",
          "model_module_version": "1.5.0",
          "model_name": "HBoxModel",
          "state": {
            "_dom_classes": [],
            "_model_module": "@jupyter-widgets/controls",
            "_model_module_version": "1.5.0",
            "_model_name": "HBoxModel",
            "_view_count": null,
            "_view_module": "@jupyter-widgets/controls",
            "_view_module_version": "1.5.0",
            "_view_name": "HBoxView",
            "box_style": "",
            "children": [
              "IPY_MODEL_568a7386b6b64acf82ad9391c8424fb6"
            ],
            "layout": "IPY_MODEL_7534183b206b45cabcd58bf7e1e2fc63"
          }
        },
        "c26bb539d9ad4f60ac56c27823d7c0e3": {
          "model_module": "@jupyter-widgets/base",
          "model_module_version": "1.2.0",
          "model_name": "LayoutModel",
          "state": {
            "_model_module": "@jupyter-widgets/base",
            "_model_module_version": "1.2.0",
            "_model_name": "LayoutModel",
            "_view_count": null,
            "_view_module": "@jupyter-widgets/base",
            "_view_module_version": "1.2.0",
            "_view_name": "LayoutView",
            "align_content": null,
            "align_items": "center",
            "align_self": null,
            "border": null,
            "bottom": null,
            "display": "flex",
            "flex": "1 1",
            "flex_flow": "row wrap",
            "grid_area": null,
            "grid_auto_columns": null,
            "grid_auto_flow": null,
            "grid_auto_rows": null,
            "grid_column": null,
            "grid_gap": null,
            "grid_row": null,
            "grid_template_areas": null,
            "grid_template_columns": null,
            "grid_template_rows": null,
            "height": null,
            "justify_content": "space-between",
            "justify_items": null,
            "left": null,
            "margin": null,
            "max_height": null,
            "max_width": null,
            "min_height": null,
            "min_width": "20px",
            "object_fit": null,
            "object_position": null,
            "order": null,
            "overflow": null,
            "overflow_x": null,
            "overflow_y": null,
            "padding": null,
            "right": null,
            "top": null,
            "visibility": null,
            "width": "auto"
          }
        },
        "d7300b77566748f1bf110db14e340501": {
          "model_module": "@jupyter-widgets/base",
          "model_module_version": "1.2.0",
          "model_name": "LayoutModel",
          "state": {
            "_model_module": "@jupyter-widgets/base",
            "_model_module_version": "1.2.0",
            "_model_name": "LayoutModel",
            "_view_count": null,
            "_view_module": "@jupyter-widgets/base",
            "_view_module_version": "1.2.0",
            "_view_name": "LayoutView",
            "align_content": null,
            "align_items": null,
            "align_self": null,
            "border": null,
            "bottom": null,
            "display": null,
            "flex": null,
            "flex_flow": null,
            "grid_area": null,
            "grid_auto_columns": null,
            "grid_auto_flow": null,
            "grid_auto_rows": null,
            "grid_column": null,
            "grid_gap": null,
            "grid_row": null,
            "grid_template_areas": null,
            "grid_template_columns": null,
            "grid_template_rows": null,
            "height": null,
            "justify_content": "space-between",
            "justify_items": null,
            "left": null,
            "margin": null,
            "max_height": null,
            "max_width": null,
            "min_height": null,
            "min_width": null,
            "object_fit": null,
            "object_position": null,
            "order": null,
            "overflow": null,
            "overflow_x": null,
            "overflow_y": null,
            "padding": null,
            "right": null,
            "top": null,
            "visibility": null,
            "width": null
          }
        },
        "e2dd762dc43947ce9d7f69af0efaf0c5": {
          "model_module": "@jupyter-widgets/controls",
          "model_module_version": "1.5.0",
          "model_name": "DescriptionStyleModel",
          "state": {
            "_model_module": "@jupyter-widgets/controls",
            "_model_module_version": "1.5.0",
            "_model_name": "DescriptionStyleModel",
            "_view_count": null,
            "_view_module": "@jupyter-widgets/base",
            "_view_module_version": "1.2.0",
            "_view_name": "StyleView",
            "description_width": "initial"
          }
        },
        "f2667673e98048a9b43a85075abb6490": {
          "model_module": "@jupyter-widgets/controls",
          "model_module_version": "1.5.0",
          "model_name": "SliderStyleModel",
          "state": {
            "_model_module": "@jupyter-widgets/controls",
            "_model_module_version": "1.5.0",
            "_model_name": "SliderStyleModel",
            "_view_count": null,
            "_view_module": "@jupyter-widgets/base",
            "_view_module_version": "1.2.0",
            "_view_name": "StyleView",
            "description_width": "initial",
            "handle_color": null
          }
        },
        "f46951a911584340abbebb27a575e774": {
          "model_module": "@jupyter-widgets/controls",
          "model_module_version": "1.5.0",
          "model_name": "VBoxModel",
          "state": {
            "_dom_classes": [],
            "_model_module": "@jupyter-widgets/controls",
            "_model_module_version": "1.5.0",
            "_model_name": "VBoxModel",
            "_view_count": null,
            "_view_module": "@jupyter-widgets/controls",
            "_view_module_version": "1.5.0",
            "_view_name": "VBoxView",
            "box_style": "",
            "children": [
              "IPY_MODEL_19262ec7d37d450a92ed8730add2d961",
              "IPY_MODEL_93f490dca07f45c3a1513f4968908ad2"
            ],
            "layout": "IPY_MODEL_1ddac739d05643a39069bcf83c74ac89"
          }
        }
      }
    }
  },
  "nbformat": 4,
  "nbformat_minor": 0
}
