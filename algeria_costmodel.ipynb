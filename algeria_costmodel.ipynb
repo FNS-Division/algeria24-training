{
 "cells": [
  {
   "cell_type": "markdown",
   "metadata": {},
   "source": [
    "# Cost analysis"
   ]
  },
  {
   "cell_type": "markdown",
   "metadata": {},
   "source": [
    "## Setting up our environment"
   ]
  },
  {
   "cell_type": "markdown",
   "metadata": {},
   "source": [
    "We import Python libraries needed for our cost analysis:\n",
    "\n",
    "- Data tools (pandas, numpy) for calculations\n",
    "- Geographic tools (geopandas) for mapping\n",
    "- Visualization libraries (matplotlib, folium, seaborn) for creating graphs and maps\n",
    "\n",
    "These will help us analyze and visualize the costs of different connectivity options."
   ]
  },
  {
   "cell_type": "code",
   "execution_count": 1,
   "metadata": {},
   "outputs": [],
   "source": [
    "# Data handling\n",
    "import pandas as pd\n",
    "import numpy as np\n",
    "\n",
    "# Graph and spatial libraries\n",
    "import geopandas as gpd\n",
    "\n",
    "# Visualization\n",
    "import matplotlib.pyplot as plt\n",
    "import folium\n",
    "import seaborn as sns\n",
    "from matplotlib.ticker import FuncFormatter\n",
    "\n",
    "# Notebook interaction and display\n",
    "import ipywidgets as widgets\n",
    "from IPython.display import display\n",
    "# from google.colab import data_table"
   ]
  },
  {
   "cell_type": "markdown",
   "metadata": {},
   "source": [
    "## Set analysis parameters"
   ]
  },
  {
   "cell_type": "markdown",
   "metadata": {},
   "source": [
    "We create an interactive interface to set important cost variables for different connection technologies (Fiber, Cellular, Point-to-Point, and Satellite). For each technology, we can adjust:\n",
    "\n",
    "- **CAPEX**: One-time installation costs (equipment, setup)\n",
    "- **OPEX**: Ongoing yearly costs (maintenance, service fees)\n",
    "- **ARPU**: Annual Revenue Per User (expected income per person)\n",
    "\n",
    "We also set the **maximum fiber cable length** per school and **analysis timeframe**."
   ]
  },
  {
   "cell_type": "code",
   "execution_count": null,
   "metadata": {},
   "outputs": [],
   "source": [
    "# Common layout for all widgets\n",
    "item_layout = widgets.Layout(\n",
    "    width='auto',\n",
    "    min_width='20px',\n",
    "    flex='1 1 auto',\n",
    "    display='flex',\n",
    "    flex_flow='row wrap',\n",
    "    align_items='center',\n",
    "    justify_content='space-between'\n",
    ")\n",
    "\n",
    "# Parameters for each technology\n",
    "technologies = ['Fiber', 'Cellular', 'P2P', 'Satellite']\n",
    "tech_controls = {}\n",
    "for tech in technologies:\n",
    "    tech_controls[tech] = {\n",
    "        'CAPEX': widgets.FloatSlider(\n",
    "            description=f'One-off CAPEX (USD):',\n",
    "            min=0,\n",
    "            max=10000,\n",
    "            step=1000,\n",
    "            value=1000,\n",
    "            layout=item_layout,\n",
    "            style={'description_width': 'initial'},\n",
    "            readout_format=',.0f'\n",
    "        ),\n",
    "        'OPEX': widgets.FloatSlider(\n",
    "            description=f'Annual OPEX (USD):',\n",
    "            min=0,\n",
    "            max=5000,\n",
    "            step=500,\n",
    "            value=500,\n",
    "            layout=item_layout,\n",
    "            style={'description_width': 'initial'},\n",
    "            readout_format=',.0f'\n",
    "        ),\n",
    "        'ARPU': widgets.FloatSlider(\n",
    "            description=f'Annual revenue per user (USD):',\n",
    "            min=0,\n",
    "            max=100,\n",
    "            step=1,\n",
    "            value=50,\n",
    "            layout=item_layout,\n",
    "            style={'description_width': 'initial'},\n",
    "            readout_format=',.0f'\n",
    "\n",
    "        )\n",
    "    }\n",
    "\n",
    "# Overall parameters\n",
    "max_fiber_length = widgets.FloatSlider(\n",
    "    description='Maximum Fiber Length (km):',\n",
    "    min=0,\n",
    "    max=15,\n",
    "    step=1,\n",
    "    value=1,\n",
    "    layout=item_layout,\n",
    "    style={'description_width': 'initial'},\n",
    "    readout_format=',.0f'\n",
    ")\n",
    "\n",
    "num_years = widgets.IntSlider(\n",
    "    description='Number of years:',\n",
    "    min=1,\n",
    "    max=50,\n",
    "    step=1,\n",
    "    value=10,\n",
    "    layout=item_layout,\n",
    "    style={'description_width': 'initial'},\n",
    "    readout_format=',.0f'\n",
    ")\n",
    "\n",
    "# Arrange controls in a layout\n",
    "tech_layouts = []\n",
    "for tech, controls in tech_controls.items():\n",
    "    tech_layouts.append(\n",
    "        widgets.VBox(\n",
    "            [widgets.HTML(value=f\"<b>{tech}</b>\")] +\n",
    "            [controls[param] for param in controls],\n",
    "            layout=widgets.Layout(justify_content='space-between')\n",
    "        )\n",
    "    )\n",
    "\n",
    "overall_layout = widgets.VBox(\n",
    "    [widgets.HTML(value='<b>Overall Parameters</b>'), max_fiber_length, num_years],\n",
    "    layout=widgets.Layout(justify_content='space-between')\n",
    ")\n",
    "\n",
    "inputs_layout = widgets.VBox(\n",
    "    children= [overall_layout] + tech_layouts\n",
    ")\n",
    "\n",
    "display(inputs_layout)"
   ]
  },
  {
   "cell_type": "markdown",
   "metadata": {},
   "source": [
    "## Get results from previous analyses"
   ]
  },
  {
   "cell_type": "markdown",
   "metadata": {},
   "source": [
    "We load previously calculated data about schools:\n",
    "\n",
    "- Proximity data: distances to existing infrastructure\n",
    "- Coverage data: which areas have cellular service\n",
    "- Visibility data: line-of-sight between schools and towers\n",
    "- Population data: number of potential users near each school\n",
    "\n",
    "This gives us the foundation for our revenue and cost calculations."
   ]
  },
  {
   "cell_type": "markdown",
   "metadata": {},
   "source": [
    "### Proximity, coverage and demand analysis"
   ]
  },
  {
   "cell_type": "code",
   "execution_count": 3,
   "metadata": {},
   "outputs": [],
   "source": [
    "pcd_results = pd.read_csv('https://zstagigaprodeuw1.blob.core.windows.net/gigainframapkit-public-container/algeria/results/algeria-results-pcd.csv')\n",
    "pcd_results = pcd_results.set_index('poi_id')"
   ]
  },
  {
   "cell_type": "code",
   "execution_count": 4,
   "metadata": {},
   "outputs": [],
   "source": [
    "algeria_schools_gdf = gpd.GeoDataFrame(pcd_results, geometry=gpd.points_from_xy(pcd_results.lon, pcd_results.lat), crs='EPSG:4326')\n",
    "algeria_schools_gdf =  algeria_schools_gdf[[\"geometry\"]]"
   ]
  },
  {
   "cell_type": "markdown",
   "metadata": {},
   "source": [
    "### Visibility analysis"
   ]
  },
  {
   "cell_type": "code",
   "execution_count": 5,
   "metadata": {},
   "outputs": [],
   "source": [
    "visibility_results = pd.read_csv('https://zstagigaprodeuw1.blob.core.windows.net/gigainframapkit-public-container/algeria/results/algeria-results-visibility.csv')\n",
    "visibility_results.set_index('poi_id', inplace=True)"
   ]
  },
  {
   "cell_type": "markdown",
   "metadata": {},
   "source": [
    "### Merge results"
   ]
  },
  {
   "cell_type": "code",
   "execution_count": 6,
   "metadata": {},
   "outputs": [],
   "source": [
    "merged_results = pcd_results[[\"coverage\",\"transmission_node_distance\",\"population_in_buffer\"]].merge(visibility_results[[\"is_visible\"]], left_index=True, right_index=True)"
   ]
  },
  {
   "cell_type": "code",
   "execution_count": null,
   "metadata": {},
   "outputs": [],
   "source": [
    "merged_results.head()"
   ]
  },
  {
   "cell_type": "markdown",
   "metadata": {},
   "source": [
    "## Assess feasibility of technologies for each school"
   ]
  },
  {
   "cell_type": "markdown",
   "metadata": {},
   "source": [
    "We determine which connection technologies are possible for each school based on:\n",
    "\n",
    "- **Fiber**: Is it close enough to existing fiber networks?\n",
    "- **Cellular**: Is it in an area with coverage?\n",
    "- **Point-to-Point**: Does it have line-of-sight to towers?\n",
    "- **Satellite**: Always feasible, but often more expensive.\n",
    "\n",
    "This helps eliminate impossible options before cost analysis."
   ]
  },
  {
   "cell_type": "code",
   "execution_count": 8,
   "metadata": {},
   "outputs": [],
   "source": [
    "feasibility = merged_results.copy()\n",
    "feasibility[\"fiber_feasible\"] = feasibility[\"transmission_node_distance\"] <= max_fiber_length.value*1000\n",
    "feasibility[\"p2mp_feasible\"] = feasibility[\"coverage\"]\n",
    "feasibility[\"p2p_feasible\"] = feasibility[\"is_visible\"]\n",
    "feasibility[\"satellite_feasible\"] = True\n",
    "feasibility = feasibility[[\"fiber_feasible\",\"p2mp_feasible\",\"p2p_feasible\",\"satellite_feasible\"]]"
   ]
  },
  {
   "cell_type": "code",
   "execution_count": null,
   "metadata": {},
   "outputs": [],
   "source": [
    "feasibility.head()"
   ]
  },
  {
   "cell_type": "code",
   "execution_count": null,
   "metadata": {},
   "outputs": [],
   "source": [
    "# Create feasibility counts for bar chart\n",
    "feasibility_counts = {\n",
    "   'fiber': feasibility['fiber_feasible'].sum(),\n",
    "   'p2mp': feasibility['p2mp_feasible'].sum(), \n",
    "   'p2p': feasibility['p2p_feasible'].sum(),\n",
    "   'satellite': feasibility['satellite_feasible'].sum()\n",
    "}\n",
    "color_map = {\n",
    "   'p2mp': '#4C72B0',\n",
    "   'satellite': '#DD8452',\n",
    "   'fiber': '#55A868',\n",
    "   'p2p': '#C44E52'\n",
    "}\n",
    "plt.figure(figsize=(10, 6))\n",
    "technologies = list(feasibility_counts.keys())\n",
    "counts = list(feasibility_counts.values())\n",
    "colors = [color_map[tech] for tech in technologies]\n",
    "plt.bar(technologies, counts, color=colors)\n",
    "plt.title('Count of feasible technologies', pad=20)\n",
    "plt.xlabel('Technology')\n",
    "plt.ylabel('Count')\n",
    "plt.grid(axis='y', linestyle='--', alpha=0.7)\n",
    "plt.gca().yaxis.set_major_formatter(FuncFormatter(lambda x, p: format(int(x), ',')))\n",
    "plt.tight_layout()"
   ]
  },
  {
   "cell_type": "markdown",
   "metadata": {},
   "source": [
    "## Compute operator revenues for each school and technology"
   ]
  },
  {
   "cell_type": "markdown",
   "metadata": {},
   "source": [
    "For each feasible technology at each school, we calculate potential revenue:\n",
    "\n",
    "Total Revenue = (Annual Revenue per User × Number of Users × Years) - \n",
    "                (One-time Costs + Annual Costs × Years)\n",
    "\n",
    "This shows which technologies might be profitable for service providers"
   ]
  },
  {
   "cell_type": "code",
   "execution_count": 11,
   "metadata": {},
   "outputs": [],
   "source": [
    "revenues = merged_results.copy()\n",
    "revenues[\"fiber_revenue\"] = tech_controls[\"Fiber\"][\"ARPU\"].value*merged_results[\"population_in_buffer\"]*num_years.value-tech_controls[\"Fiber\"][\"CAPEX\"].value-tech_controls[\"Fiber\"][\"OPEX\"].value*num_years.value\n",
    "revenues[\"p2mp_revenue\"] = tech_controls[\"Cellular\"][\"ARPU\"].value*merged_results[\"population_in_buffer\"]*num_years.value-tech_controls[\"Cellular\"][\"CAPEX\"].value-tech_controls[\"Cellular\"][\"OPEX\"].value*num_years.value\n",
    "revenues[\"p2p_revenue\"] = tech_controls[\"P2P\"][\"ARPU\"].value*merged_results[\"population_in_buffer\"]*num_years.value-tech_controls[\"P2P\"][\"CAPEX\"].value-tech_controls[\"P2P\"][\"OPEX\"].value*num_years.value\n",
    "revenues[\"satellite_revenue\"] = tech_controls[\"Satellite\"][\"ARPU\"].value*merged_results[\"population_in_buffer\"]*num_years.value-tech_controls[\"Satellite\"][\"CAPEX\"].value-tech_controls[\"Satellite\"][\"OPEX\"].value*num_years.value\n",
    "revenues = revenues[[\"fiber_revenue\",\"p2mp_revenue\",\"p2p_revenue\",\"satellite_revenue\"]]"
   ]
  },
  {
   "cell_type": "code",
   "execution_count": 12,
   "metadata": {},
   "outputs": [],
   "source": [
    "for tech in ['fiber', 'p2mp', 'p2p', 'satellite']:\n",
    "    revenues.loc[~feasibility[f'{tech}_feasible'], f'{tech}_revenue'] = np.nan"
   ]
  },
  {
   "cell_type": "code",
   "execution_count": null,
   "metadata": {},
   "outputs": [],
   "source": [
    "revenues.head()"
   ]
  },
  {
   "cell_type": "code",
   "execution_count": null,
   "metadata": {},
   "outputs": [],
   "source": [
    "# Violin plot of revenues by technology\n",
    "data = revenues[['fiber_revenue', 'p2mp_revenue', 'p2p_revenue', 'satellite_revenue']].melt(\n",
    "   var_name='Technology',\n",
    "   value_name='Revenue'\n",
    ")\n",
    "data['Technology'] = data['Technology'].str.replace('_revenue', '')\n",
    "plt.figure(figsize=(10, 6))\n",
    "sns.violinplot(x='Technology', y='Revenue', data=data, inner=None, palette=color_map, hue='Technology')\n",
    "sns.stripplot(x='Technology', y='Revenue', data=data, alpha=0.05, jitter=True, palette=color_map, hue='Technology')\n",
    "plt.xlabel('')\n",
    "plt.ylabel('Revenue')\n",
    "plt.title('Distribution of revenues by technology')\n",
    "plt.gca().yaxis.set_major_formatter(FuncFormatter(lambda x, _: f'{int(x):,}'))\n",
    "plt.tight_layout()\n",
    "plt.show()"
   ]
  },
  {
   "cell_type": "markdown",
   "metadata": {},
   "source": [
    "## Assign a technology to each school by maximizing operator revenue"
   ]
  },
  {
   "cell_type": "markdown",
   "metadata": {},
   "source": [
    "We choose the best technology for each school by:\n",
    "\n",
    "1. Considering only feasible options\n",
    "2. Selecting the technology with highest potential revenue\n",
    "3. Marking schools where no profitable options exist\n",
    "\n",
    "This helps identify the most economically viable connection method for each school."
   ]
  },
  {
   "cell_type": "code",
   "execution_count": null,
   "metadata": {},
   "outputs": [],
   "source": [
    "# Find highest revenue for each row\n",
    "revenue_cols = ['fiber_revenue', 'p2mp_revenue', 'p2p_revenue', 'satellite_revenue']\n",
    "revenues['selected_technology'] = revenues[revenue_cols].idxmax(axis=1).str.replace('_revenue', '')\n",
    "# If all revenues are NaN, set selected_technology to NaN\n",
    "mask = revenues[revenue_cols].isna().all(axis=1)\n",
    "revenues.loc[mask, 'selected_technology'] = np.nan"
   ]
  },
  {
   "cell_type": "markdown",
   "metadata": {},
   "source": [
    "## Visualize the technology assignment"
   ]
  },
  {
   "cell_type": "markdown",
   "metadata": {},
   "source": [
    "We create two main visualizations:\n",
    "\n",
    "1. Bar Chart: Shows how many schools are assigned to each technology\n",
    "2. Interactive Map: Displays schools color-coded by their assigned technology"
   ]
  },
  {
   "cell_type": "markdown",
   "metadata": {},
   "source": [
    "### Bar chart"
   ]
  },
  {
   "cell_type": "code",
   "execution_count": null,
   "metadata": {},
   "outputs": [],
   "source": [
    "plt.figure(figsize=(10, 6))\n",
    "sns.barplot(data=revenues[\"selected_technology\"].value_counts().reset_index(), \n",
    "           x=\"selected_technology\", \n",
    "           y=\"count\",\n",
    "           palette=color_map,\n",
    "           hue=\"selected_technology\")\n",
    "plt.title('Distribution of Selected Technologies', pad=20)\n",
    "plt.xlabel('Technology')\n",
    "plt.ylabel('Count') \n",
    "plt.xticks(rotation=0)\n",
    "plt.grid(axis='y', linestyle='--', alpha=0.7)\n",
    "plt.gca().yaxis.set_major_formatter(FuncFormatter(lambda x, p: format(int(x), ',')))\n",
    "plt.tight_layout()"
   ]
  },
  {
   "cell_type": "markdown",
   "metadata": {},
   "source": [
    "### Map"
   ]
  },
  {
   "cell_type": "code",
   "execution_count": 18,
   "metadata": {},
   "outputs": [],
   "source": [
    "algeria_schools_gdf = algeria_schools_gdf.merge(revenues[\"selected_technology\"], left_index=True, right_index=True).dropna(subset=[\"selected_technology\"])"
   ]
  },
  {
   "cell_type": "code",
   "execution_count": 19,
   "metadata": {},
   "outputs": [],
   "source": [
    "def plot_points_by_technology(points_gdf, color_map, title=\"Points by Technology\", zoom=6):\n",
    "    \"\"\"\n",
    "    Create an interactive map with points colored by selected technology\n",
    "    \"\"\"    \n",
    "    if points_gdf.crs != \"EPSG:4326\":\n",
    "        points_gdf = points_gdf.to_crs(\"EPSG:4326\")\n",
    "    \n",
    "    center_lat = points_gdf.geometry.y.mean()\n",
    "    center_lon = points_gdf.geometry.x.mean()\n",
    "    m = folium.Map(location=[center_lat, center_lon], zoom_start=zoom)\n",
    "    \n",
    "    title_html = f'''\n",
    "    <div style=\"position: fixed; \n",
    "                top: 10px;\n",
    "                left: 50px;\n",
    "                z-index: 1000;\n",
    "                background-color: white;\n",
    "                padding: 10px;\n",
    "                border-radius: 5px;\">\n",
    "        <h4>{title}</h4>\n",
    "        Total Points: {len(points_gdf)}\n",
    "    </div>\n",
    "    '''\n",
    "    \n",
    "    legend_html = '''\n",
    "    <div style=\"position: fixed; \n",
    "                bottom: 50px;\n",
    "                right: 50px;\n",
    "                z-index: 1000;\n",
    "                background-color: white;\n",
    "                padding: 10px;\n",
    "                border-radius: 5px;\">\n",
    "    <p><strong>Technologies</strong></p>\n",
    "    '''\n",
    "    \n",
    "    for tech, color in color_map.items():\n",
    "        legend_html += f'<p><span style=\"color:{color}\">●</span> {tech}</p>'\n",
    "    \n",
    "    legend_html += '</div>'\n",
    "    \n",
    "    m.get_root().html.add_child(folium.Element(title_html))\n",
    "    m.get_root().html.add_child(folium.Element(legend_html))\n",
    "    \n",
    "    for _, row in points_gdf.iterrows():\n",
    "        color = color_map.get(row.selected_technology, '#808080')  # gray for NaN\n",
    "        folium.CircleMarker(\n",
    "            location=[row.geometry.y, row.geometry.x],\n",
    "            radius=5,\n",
    "            color='black',\n",
    "            weight=1,\n",
    "            fill=True,\n",
    "            fill_color=color,\n",
    "            fill_opacity=0.7,\n",
    "            popup=f\"ID: {row.name}<br>Technology: {row.selected_technology}\"\n",
    "        ).add_to(m)\n",
    "    \n",
    "    return m"
   ]
  },
  {
   "cell_type": "code",
   "execution_count": null,
   "metadata": {},
   "outputs": [],
   "source": [
    "plot_points_by_technology(algeria_schools_gdf, color_map, title=\"Schools by Selected Technology\", zoom=6)"
   ]
  }
 ],
 "metadata": {
  "kernelspec": {
   "display_name": "inframaptraining",
   "language": "python",
   "name": "python3"
  },
  "language_info": {
   "codemirror_mode": {
    "name": "ipython",
    "version": 3
   },
   "file_extension": ".py",
   "mimetype": "text/x-python",
   "name": "python",
   "nbconvert_exporter": "python",
   "pygments_lexer": "ipython3",
   "version": "3.9.20"
  }
 },
 "nbformat": 4,
 "nbformat_minor": 2
}
