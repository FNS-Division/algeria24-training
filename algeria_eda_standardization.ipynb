{
  "cells": [
    {
      "cell_type": "markdown",
      "metadata": {
        "id": "view-in-github",
        "colab_type": "text"
      },
      "source": [
        "<a href=\"https://colab.research.google.com/github/sg-peytrignet/algeria24-training/blob/main/algeria_eda_standardization.ipynb\" target=\"_parent\"><img src=\"https://colab.research.google.com/assets/colab-badge.svg\" alt=\"Open In Colab\"/></a>"
      ]
    },
    {
      "cell_type": "markdown",
      "source": [
        "# ICT infrastructure data exploratory analysis"
      ],
      "metadata": {
        "id": "tC_HmFLVT_u-"
      }
    },
    {
      "cell_type": "markdown",
      "source": [
        "Welcome to this hands-on session where we'll learn how to analyze infrastructure data using Python. We'll be working with data from Algeria to understand how to obtain, process and prepare different layers of infrastructure data. This tutorial will teach you how to handle geographic data, create visualizations for exploratory data analysis, and standardize infrastructure data for analysis."
      ],
      "metadata": {
        "id": "0E65IxntChoC"
      }
    },
    {
      "cell_type": "markdown",
      "source": [
        "## Setting up our environment\n",
        "\n",
        "We start by importing the Python libraries we'll need for our analysis:\n",
        "- geopandas and shapely: For handling geographic data and operations\n",
        "- pandas: For data manipulation and analysis\n",
        "- matplotlib and contextily: For creating visualizations and adding map backgrounds\n",
        "- osmnx: For accessing OpenStreetMap data\n",
        "- Other utility libraries for various tasks like generating UUIDs and handling country codes"
      ],
      "metadata": {
        "id": "y3yW5D1dC33X"
      }
    },
    {
      "cell_type": "code",
      "source": [
        "!pip install osmnx contextily summarytools pycountry"
      ],
      "metadata": {
        "id": "yeGLrdaABM1C"
      },
      "execution_count": null,
      "outputs": []
    },
    {
      "cell_type": "code",
      "execution_count": null,
      "metadata": {
        "id": "dif-NBruSNe2"
      },
      "outputs": [],
      "source": [
        "# Standard library imports\n",
        "import os\n",
        "import math\n",
        "\n",
        "# Data manipulation and analysis\n",
        "import pandas as pd\n",
        "import numpy as np\n",
        "import uuid\n",
        "\n",
        "# Geospatial libraries\n",
        "import geopandas as gpd\n",
        "import osmnx as ox\n",
        "from shapely.ops import unary_union\n",
        "import pycountry\n",
        "\n",
        "# Visualization libraries\n",
        "import matplotlib.pyplot as plt\n",
        "from matplotlib.patches import Patch\n",
        "import contextily as cx\n",
        "\n",
        "# Interactive tools and display\n",
        "import ipywidgets as widgets\n",
        "from IPython.display import display, HTML\n",
        "from summarytools import dfSummary\n",
        "from google.colab import data_table\n",
        "import folium"
      ]
    },
    {
      "cell_type": "markdown",
      "source": [
        "We set `fetch_data = False` to use pre-downloaded data instead of fetching it live during the tutorial."
      ],
      "metadata": {
        "id": "b5D1hjp1DVQC"
      }
    },
    {
      "cell_type": "code",
      "execution_count": null,
      "metadata": {
        "id": "R9jL84DTSNe4"
      },
      "outputs": [],
      "source": [
        "fetch_data = False"
      ]
    },
    {
      "cell_type": "markdown",
      "metadata": {
        "id": "okIG6cWvSNe5"
      },
      "source": [
        "## Get country boundaries"
      ]
    },
    {
      "cell_type": "markdown",
      "source": [
        "Before analyzing infrastructure within Algeria, we need to define the country's boundaries. We:\n",
        "1. Load a GeoJSON file containing global UN-recognized country boundaries using geopandas\n",
        "2. Filter to get just Algeria's boundary\n",
        "3. Calculate the country's bounding box and UTM projection zone for later use\n",
        "4. Get Algeria's ISO3 country code for standardization\n",
        "\n",
        "This boundary data will be crucial for clipping our infrastructure data and ensuring we're analyzing points within Algeria's borders."
      ],
      "metadata": {
        "id": "U8Y78rzMDhYv"
      }
    },
    {
      "cell_type": "code",
      "execution_count": null,
      "metadata": {
        "id": "Pj0qy2MYSNe7"
      },
      "outputs": [],
      "source": [
        "un_boundaries = gpd.read_file(\"https://zstagigaprodeuw1.blob.core.windows.net/gigainframapkit-public-container/country_boundary_data/boundaries.geojson\")\n",
        "algeria = un_boundaries[un_boundaries.romnam == \"Algeria\"]"
      ]
    },
    {
      "cell_type": "code",
      "execution_count": null,
      "metadata": {
        "id": "POFswjpqSNe7"
      },
      "outputs": [],
      "source": [
        "algeria.plot(color=\"green\")"
      ]
    },
    {
      "cell_type": "code",
      "execution_count": null,
      "metadata": {
        "id": "ArNfAC38SNe7"
      },
      "outputs": [],
      "source": [
        "algeria_boundary = algeria.total_bounds\n",
        "algeria_utm = algeria.estimate_utm_crs()\n",
        "algeria_latitude = algeria.centroid.y.squeeze()"
      ]
    },
    {
      "cell_type": "code",
      "execution_count": null,
      "metadata": {
        "id": "XWwzG2XTSNe9"
      },
      "outputs": [],
      "source": [
        "def get_iso3_country_code(country_name):\n",
        "    try:\n",
        "        country = pycountry.countries.get(name=country_name)\n",
        "        return country.alpha_3\n",
        "    except AttributeError:\n",
        "        return None"
      ]
    },
    {
      "cell_type": "code",
      "execution_count": null,
      "metadata": {
        "id": "5eYmbGQfSNe9"
      },
      "outputs": [],
      "source": [
        "algeria_iso3 = get_iso3_country_code(\"Algeria\")\n",
        "print(f\"The ISO-3 code for Algeria is {algeria_iso3}\")"
      ]
    },
    {
      "cell_type": "markdown",
      "metadata": {
        "id": "61YcRM3KSNe-"
      },
      "source": [
        "## Get point of interest (POI) data"
      ]
    },
    {
      "cell_type": "markdown",
      "source": [
        "<img src=\"https://wiki.openstreetmap.org/w/images/c/c8/Public-images-osm_logo.png\" alt=\"OpenStreetMap logo\" width=\"20%\">\n",
        "\n",
        "[OpenStreetMap](https://www.openstreetmap.org/) (OSM) is an open-source, community-driven geospatial data project that provides free and editable geographic information at a global scale. Established in 2004, OSM functions as a vast, collaborative mapping database where users contribute data on roads, buildings, land use, natural features, and more, creating a detailed digital representation of the world's infrastructure. Its open data licensing and API access make it highly valuable for applications in GIS analysis, urban planning, transportation modeling, and disaster response."
      ],
      "metadata": {
        "id": "34hcFAd5EdNR"
      }
    },
    {
      "cell_type": "markdown",
      "source": [
        "Thanks to this resoruce, we load data about schools in Algeria. The code:\n",
        "1. Either fetches school data from OpenStreetMap using the osmnx API and the `amenity=school` tag (if fetch_data=True) or loads pre-downloaded data\n",
        "2. Filters the data to keep only relevant columns (ID, amenity type, city, education level, etc.)\n",
        "3. Processes the geographical coordinates for each school\n",
        "\n",
        "This data will help us understand the distribution of educational facilities across the country and identify areas that might be underserved."
      ],
      "metadata": {
        "id": "3H6K2jYtEKEM"
      }
    },
    {
      "cell_type": "code",
      "execution_count": null,
      "metadata": {
        "id": "IurMcJhaSNe_"
      },
      "outputs": [],
      "source": [
        "if fetch_data:\n",
        "    place = \"Algeria\"\n",
        "    tags = {\"amenity\": \"school\"}\n",
        "    algeria_schools_gdf = ox.features_from_place(place, tags)\n",
        "else:\n",
        "    algeria_schools_gdf = gpd.read_file(\"https://zstagigaprodeuw1.blob.core.windows.net/gigainframapkit-public-container/algeria/algeria-schools.geojson\")"
      ]
    },
    {
      "cell_type": "code",
      "execution_count": null,
      "metadata": {
        "id": "suYfl9BtSNe_"
      },
      "outputs": [],
      "source": [
        "algeria_schools_gdf = algeria_schools_gdf[[\"osmid\",\"amenity\",\"element_type\",\"addr:city\",\"isced:level\",\"operator\", \"geometry\"]]"
      ]
    },
    {
      "cell_type": "markdown",
      "metadata": {
        "id": "97KSnGxPSNe_"
      },
      "source": [
        "## Get Ookla speed test data"
      ]
    },
    {
      "cell_type": "markdown",
      "source": [
        "<img src=\"https://i.ibb.co/wcB1JHC/Screenshot-2024-10-25-at-21-24-24.png\" alt=\"Ookla Open Data\" width=\"75%\">"
      ],
      "metadata": {
        "id": "m4wtedeuJC77"
      }
    },
    {
      "cell_type": "markdown",
      "source": [
        "[Ookla](https://www.ookla.com/ookla-for-good/open-data), known for its Speedtest platform, offers open data on internet speeds, latency, and network quality worldwide. Their datasets, like the Speedtest Global Index, help researchers analyze internet performance and infer knowledge about infrastructure gaps."
      ],
      "metadata": {
        "id": "Wn_jx5OmGOFv"
      }
    },
    {
      "cell_type": "markdown",
      "source": [
        "Here, we process their internet speed test data. For both mobile and fixed broadband:\n",
        "1. We load data from Ookla's public dataset hosted as parquet files on Amazon Web Services (or pre-downloaded files)\n",
        "2. Filter the data to Algeria's geographical bounds obtained earlier\n",
        "3. Fetch key metrics like average download speed (avg_d_kbps) and latency (avg_lat_ms)\n",
        "4. For mobile data, we can also create coverage polygons by buffering around test points. The Ookla data is available as tiles which are approximately 610.8 meters by 610.8 meters at the equator.\n",
        "Fore more information about processing open data from Ookla, visit their [GitHub](https://github.com/teamookla/ookla-open-data) page."
      ],
      "metadata": {
        "id": "Fh9VRCjCIYVp"
      }
    },
    {
      "cell_type": "code",
      "execution_count": null,
      "metadata": {
        "id": "v0_zuHsLSNe_"
      },
      "outputs": [],
      "source": [
        "def get_perf_tiles_parquet_url(service: str, year: int, quarter: int) -> str:\n",
        "    quarter_start = f\"{year}-{(((quarter - 1) * 3) + 1):02}-01\"\n",
        "    url = f\"s3://ookla-open-data/parquet/performance/type={service}/year={year}/quarter={quarter}/{quarter_start}_performance_{service}_tiles.parquet\"\n",
        "    return url"
      ]
    },
    {
      "cell_type": "markdown",
      "metadata": {
        "id": "HmPpyAAPSNe_"
      },
      "source": [
        "### Mobile"
      ]
    },
    {
      "cell_type": "code",
      "execution_count": null,
      "metadata": {
        "id": "W1YqPrAvSNe_"
      },
      "outputs": [],
      "source": [
        "if fetch_data:\n",
        "    mobile_perf_tiles_url = get_perf_tiles_parquet_url(\"mobile\", 2024, 2)\n",
        "    bbox_filters = [('tile_y', '<=', algeria_boundary[3]), ('tile_y', '>=', algeria_boundary[1]),\n",
        "                ('tile_x', '<=', algeria_boundary[2]), ('tile_x', '>=', algeria_boundary[0])]\n",
        "    mobile_tiles_df = pd.read_parquet(mobile_perf_tiles_url,\n",
        "                           filters=bbox_filters,\n",
        "                           columns=['tile_x', 'tile_y', 'tests', 'avg_d_kbps', 'avg_lat_ms'],\n",
        "                           storage_options={\"s3\": {\"anon\": True}}\n",
        "                           )\n",
        "else:\n",
        "    mobile_tiles_df = pd.read_csv(\"https://zstagigaprodeuw1.blob.core.windows.net/gigainframapkit-public-container/algeria/algeria-ookla-mobile-tiles.csv\",index_col=0)"
      ]
    },
    {
      "cell_type": "code",
      "execution_count": null,
      "metadata": {
        "id": "gfHQ7UlxSNfA"
      },
      "outputs": [],
      "source": [
        "mobile_tiles_gdf = gpd.GeoDataFrame(mobile_tiles_df, geometry=gpd.points_from_xy(mobile_tiles_df.tile_x, mobile_tiles_df.tile_y), crs=\"EPSG:4326\").drop(columns=[\"tile_x\", \"tile_y\"])"
      ]
    },
    {
      "cell_type": "markdown",
      "metadata": {
        "id": "sNisNCITSNfA"
      },
      "source": [
        "#### Generate mobile coverage area"
      ]
    },
    {
      "cell_type": "markdown",
      "source": [
        "We infer mobile coverage areas from Ookla's internet speed test data. We assume that areas where there have been succesful mobile speed tests are areas that have cellular coverage, and vice versa. We do not have information, however, on which cellular technology it refers to (3G, 4G, 5G)."
      ],
      "metadata": {
        "id": "sqG21whLJkWG"
      }
    },
    {
      "cell_type": "code",
      "execution_count": null,
      "metadata": {
        "id": "ioAkcwNASNfA"
      },
      "outputs": [],
      "source": [
        "tile_size_at_latitude=610.8*np.cos(math.radians(algeria_latitude))\n",
        "buffers = mobile_tiles_gdf.to_crs(algeria_utm).buffer(tile_size_at_latitude).to_crs(\"EPSG:4326\")\n",
        "single_polygon = unary_union(buffers)\n",
        "algeria_mobile_coverage_gdf = gpd.GeoDataFrame(geometry=[single_polygon], crs=\"EPSG:4326\")"
      ]
    },
    {
      "cell_type": "markdown",
      "metadata": {
        "id": "9ACu1A6fSNfA"
      },
      "source": [
        "### Fixed"
      ]
    },
    {
      "cell_type": "code",
      "execution_count": null,
      "metadata": {
        "id": "a0A_6qq_SNfA"
      },
      "outputs": [],
      "source": [
        "if fetch_data:\n",
        "    fixed_perf_tiles_url = get_perf_tiles_parquet_url(\"fixed\", 2024, 2)\n",
        "    fixed_tiles_df = pd.read_parquet(fixed_perf_tiles_url,\n",
        "                           filters=bbox_filters,\n",
        "                           columns=['tile_x', 'tile_y', 'tests', 'avg_d_kbps', 'avg_lat_ms'],\n",
        "                           storage_options={\"s3\": {\"anon\": True}}\n",
        "                           )\n",
        "else:\n",
        "    fixed_tiles_df = pd.read_csv(\"https://zstagigaprodeuw1.blob.core.windows.net/gigainframapkit-public-container/algeria/algeria-ookla-fixed-tiles.csv\")"
      ]
    },
    {
      "cell_type": "markdown",
      "metadata": {
        "id": "JELT4Zh0SNfA"
      },
      "source": [
        "## Get cell site data"
      ]
    },
    {
      "cell_type": "markdown",
      "source": [
        "<img src=\"https://wiki.opencellid.org/images/d/de/OpenCellID_banner_main_page2.png\" alt=\"Ookla Open Data\" width=\"50%\">"
      ],
      "metadata": {
        "id": "AOfIhsxeLAo4"
      }
    },
    {
      "cell_type": "markdown",
      "source": [
        "[OpenCellID](https://wiki.opencellid.org/wiki/What_is_OpenCellID) is the world's largest collaborative community project that collects GPS positions of cell towers, used free of charge, for a multitude of commercial and private purposes. Notably, they publish data on cell site coordinates. In order to download their data, register at their page and obtain a free API acces token. Using this token, you will be able to download [datasets](https://opencellid.org/downloads.php) for each country."
      ],
      "metadata": {
        "id": "PGgPJ-tcKDFw"
      }
    },
    {
      "cell_type": "markdown",
      "source": [
        "The code below:\n",
        "1. Loads a CSV file containing cell site coordinates obtained from OpenCellID.\n",
        "2. Converts it to a GeoDataFrame for spatial analysis"
      ],
      "metadata": {
        "id": "59S3THdIKriF"
      }
    },
    {
      "cell_type": "code",
      "execution_count": null,
      "metadata": {
        "id": "ywGDJWHtSNfA"
      },
      "outputs": [],
      "source": [
        "algeria_cell_sites = pd.read_csv(\"https://zstagigaprodeuw1.blob.core.windows.net/gigainframapkit-public-container/algeria/algeria-cell-sites.csv\")"
      ]
    },
    {
      "cell_type": "code",
      "execution_count": null,
      "metadata": {
        "id": "ZUjCO4vBSNfB"
      },
      "outputs": [],
      "source": [
        "algeria_cell_sites_gdf = gpd.GeoDataFrame(algeria_cell_sites, geometry=gpd.points_from_xy(algeria_cell_sites.lon, algeria_cell_sites.lat), crs=\"EPSG:4326\").drop(columns=[\"lon\", \"lat\"])"
      ]
    },
    {
      "cell_type": "markdown",
      "metadata": {
        "id": "yVlmdu80SNfB"
      },
      "source": [
        "## Get transmission node data"
      ]
    },
    {
      "cell_type": "markdown",
      "source": [
        "<img src=\"https://www.itu.int/en/ITU-D/Technology/PublishingImages/bbmaps-snpashot.png\" alt=\"Ookla Open Data\" width=\"50%\">\n",
        "\n",
        "We obtain data on fiber transmission nodes from the ITU's own [Connectivity Infrastructure Maps](https://bbmaps.itu.int/bbmaps/) platform. Access to the raw data is restricted to registered users, so we fetch a version of the data uploaded unto our servers. These transmission nodes in this dataset represent key internet infrastructure points that form the backbone of Algeria's telecommunications network.\n",
        "\n",
        "We follow these steps:\n",
        "1. Read coordinates and attributes of network nodes\n",
        "2. Convert to a GeoDataFrame for spatial analysis"
      ],
      "metadata": {
        "id": "7l624IcILljW"
      }
    },
    {
      "cell_type": "code",
      "execution_count": null,
      "metadata": {
        "id": "7DVGTMLOSNfB"
      },
      "outputs": [],
      "source": [
        "algeria_nodes = pd.read_csv(\"https://zstagigaprodeuw1.blob.core.windows.net/gigainframapkit-public-container/algeria/algeria-transmission-nodes.csv\")"
      ]
    },
    {
      "cell_type": "code",
      "execution_count": null,
      "metadata": {
        "id": "bg50obixSNfB"
      },
      "outputs": [],
      "source": [
        "algeria_nodes_gdf = gpd.GeoDataFrame(algeria_nodes, geometry=gpd.points_from_xy(algeria_nodes.lon, algeria_nodes.lat), crs=\"EPSG:4326\").drop(columns=[\"lon\", \"lat\"])"
      ]
    },
    {
      "cell_type": "markdown",
      "metadata": {
        "id": "VSmTyT2vSNfB"
      },
      "source": [
        "# Tabular data analysis"
      ]
    },
    {
      "cell_type": "markdown",
      "source": [
        "Before spatial analysis, we examine our data in tabular form:\n",
        "1. Use dfSummary to get statistics about each dataset\n",
        "2. Check for missing values and data quality issues\n",
        "3. Understand the distribution of different infrastructure types\n",
        "\n",
        "This step is crucial for ensuring our data is clean and understanding what insights we can extract."
      ],
      "metadata": {
        "id": "pOQEArsYNAE4"
      }
    },
    {
      "cell_type": "markdown",
      "metadata": {
        "id": "4v1PplMSSNfB"
      },
      "source": [
        "## Point of interest (POI) data"
      ]
    },
    {
      "cell_type": "code",
      "execution_count": null,
      "metadata": {
        "id": "YoHLvoBZSNfB"
      },
      "outputs": [],
      "source": [
        "data_table.DataTable(algeria_schools_gdf, num_rows_per_page=10)"
      ]
    },
    {
      "cell_type": "code",
      "execution_count": null,
      "metadata": {
        "id": "leyy96IoSNfC"
      },
      "outputs": [],
      "source": [
        "dfSummary(algeria_schools_gdf)"
      ]
    },
    {
      "cell_type": "markdown",
      "metadata": {
        "id": "hQPzkRlaSNfC"
      },
      "source": [
        "## Cell site data"
      ]
    },
    {
      "cell_type": "code",
      "execution_count": null,
      "metadata": {
        "id": "EqoE6T6JSNfC"
      },
      "outputs": [],
      "source": [
        "data_table.DataTable(algeria_cell_sites_gdf, num_rows_per_page=10)"
      ]
    },
    {
      "cell_type": "code",
      "execution_count": null,
      "metadata": {
        "id": "hloHWaO7SNfC"
      },
      "outputs": [],
      "source": [
        "dfSummary(algeria_cell_sites_gdf)"
      ]
    },
    {
      "cell_type": "markdown",
      "metadata": {
        "id": "pyzXxiE5SNfC"
      },
      "source": [
        "## Transmission node data"
      ]
    },
    {
      "cell_type": "code",
      "execution_count": null,
      "metadata": {
        "id": "JQjQe5fQSNfD"
      },
      "outputs": [],
      "source": [
        "data_table.DataTable(algeria_nodes_gdf, num_rows_per_page=10)"
      ]
    },
    {
      "cell_type": "code",
      "execution_count": null,
      "metadata": {
        "id": "rUtd9SxaSNfD"
      },
      "outputs": [],
      "source": [
        "dfSummary(algeria_nodes_gdf)"
      ]
    },
    {
      "cell_type": "markdown",
      "source": [
        "## Mobile speed test data"
      ],
      "metadata": {
        "id": "XvNc7gitH_wH"
      }
    },
    {
      "cell_type": "code",
      "source": [
        "data_table.DataTable(mobile_tiles_gdf, num_rows_per_page=10)"
      ],
      "metadata": {
        "id": "Ii15qXVwIFbP"
      },
      "execution_count": null,
      "outputs": []
    },
    {
      "cell_type": "code",
      "source": [
        "dfSummary(mobile_tiles_gdf)"
      ],
      "metadata": {
        "id": "d_AmN8cLIBTH"
      },
      "execution_count": null,
      "outputs": []
    },
    {
      "cell_type": "markdown",
      "metadata": {
        "id": "MCwiL5V5SNfD"
      },
      "source": [
        "# Geographical analysis"
      ]
    },
    {
      "cell_type": "markdown",
      "source": [
        "Now we create visualizations of our infrastructure data:\n",
        "1. Define plotting functions for points and coverage areas\n",
        "2. Create interactive widgets to toggle between different views\n",
        "3. Plot infrastructure locations with background maps\n",
        "4. Identify points that fall outside country boundaries, and remove them."
      ],
      "metadata": {
        "id": "EngX9fpUNqiL"
      }
    },
    {
      "cell_type": "code",
      "execution_count": null,
      "metadata": {
        "id": "tbilvz2aSNfD"
      },
      "outputs": [],
      "source": [
        "colors = {\"schools\": \"#e41a1c\", \"cell_sites\": \"#377eb8\", \"nodes\": \"#ff7f00\"}"
      ]
    },
    {
      "cell_type": "code",
      "execution_count": null,
      "metadata": {
        "id": "Z2XQF0SBSNfD"
      },
      "outputs": [],
      "source": [
        "def plot_points(points_gdf, title=\"Points\", color=\"red\", zoom=6):\n",
        "    \"\"\"\n",
        "    Create a simple interactive map from a GeoDataFrame using Folium\n",
        "\n",
        "    Parameters:\n",
        "    points_gdf : GeoDataFrame with point geometry\n",
        "    title : str, map title\n",
        "    color : str, color for points\n",
        "    zoom : int, initial zoom level for the map\n",
        "    \"\"\"\n",
        "    # Convert CRS to WGS84 if needed\n",
        "    if points_gdf.crs != \"EPSG:4326\":\n",
        "        points_gdf = points_gdf.to_crs(\"EPSG:4326\")\n",
        "\n",
        "    # Create a map centered on the mean position of points\n",
        "    center_lat = points_gdf.geometry.y.mean()\n",
        "    center_lon = points_gdf.geometry.x.mean()\n",
        "    m = folium.Map(location=[center_lat, center_lon], zoom_start=zoom)\n",
        "\n",
        "    # Add title and point count in styled box\n",
        "    title_html = f'''\n",
        "        <div style=\"position: fixed;\n",
        "                    top: 10px;\n",
        "                    left: 50px;\n",
        "                    z-index: 1000;\n",
        "                    background-color: white;\n",
        "                    padding: 10px;\n",
        "                    border-radius: 5px;\">\n",
        "            <h4>{title}</h4>\n",
        "            Total Points: {len(points_gdf)}\n",
        "        </div>\n",
        "    '''\n",
        "    m.get_root().html.add_child(folium.Element(title_html))\n",
        "\n",
        "    # Add points to the map\n",
        "    for _, row in points_gdf.iterrows():\n",
        "        folium.CircleMarker(\n",
        "            location=[row.geometry.y, row.geometry.x],\n",
        "            radius=5,\n",
        "            color='black',\n",
        "            weight=1,\n",
        "            fill=True,\n",
        "            fill_color=color,\n",
        "            fill_opacity=0.7,\n",
        "            popup=str(row.name)  # Just shows the index as popup\n",
        "        ).add_to(m)\n",
        "\n",
        "    return m"
      ]
    },
    {
      "cell_type": "code",
      "execution_count": null,
      "metadata": {
        "id": "K703-EnwSNfE"
      },
      "outputs": [],
      "source": [
        "def plot_outside_points(points_gdf, boundary_gdf, title=\"Points Outside Boundary\", color=\"red\", zoom=6):\n",
        "    \"\"\"\n",
        "    Create an interactive map showing points that fall outside a boundary\n",
        "\n",
        "    Parameters:\n",
        "    points_gdf : GeoDataFrame with point geometry\n",
        "    boundary_gdf : GeoDataFrame with polygon geometry\n",
        "    title : str, map title\n",
        "    color : str, color for points outside boundary\n",
        "    \"\"\"\n",
        "\n",
        "    # Find points inside and outside\n",
        "    points_inside = gpd.sjoin(points_gdf, boundary_gdf, predicate='within', how='inner')\n",
        "    points_outside = points_gdf[~points_gdf.index.isin(points_inside.index)]\n",
        "\n",
        "    # Convert to WGS84 if needed\n",
        "    if points_outside.crs != \"EPSG:4326\":\n",
        "        points_outside = points_outside.to_crs(\"EPSG:4326\")\n",
        "    if boundary_gdf.crs != \"EPSG:4326\":\n",
        "        boundary_gdf = boundary_gdf.to_crs(\"EPSG:4326\")\n",
        "\n",
        "    # Calculate map bounds from outside points\n",
        "    if len(points_outside) > 0:\n",
        "        minx, miny, maxx, maxy = points_outside.total_bounds\n",
        "        center_lat = (miny + maxy) / 2\n",
        "        center_lon = (minx + maxx) / 2\n",
        "    else:\n",
        "        # If no points outside, center on boundary\n",
        "        minx, miny, maxx, maxy = boundary_gdf.total_bounds\n",
        "        center_lat = (miny + maxy) / 2\n",
        "        center_lon = (minx + maxx) / 2\n",
        "\n",
        "    # Create map\n",
        "    m = folium.Map(\n",
        "        location=[center_lat, center_lon],\n",
        "        zoom_start=zoom\n",
        "    )\n",
        "\n",
        "    # Add boundary as a polygon\n",
        "    folium.GeoJson(\n",
        "        boundary_gdf,\n",
        "        style_function=lambda x: {\n",
        "            'fillColor': 'gray',\n",
        "            'color': 'black',\n",
        "            'weight': 1,\n",
        "            'fillOpacity': 0.1\n",
        "        }\n",
        "    ).add_to(m)\n",
        "\n",
        "    # Add points outside boundary\n",
        "    for _, row in points_outside.iterrows():\n",
        "        folium.CircleMarker(\n",
        "            location=[row.geometry.y, row.geometry.x],\n",
        "            radius=5,\n",
        "            color='black',\n",
        "            weight=1,\n",
        "            fill=True,\n",
        "            fill_color=color,\n",
        "            fill_opacity=0.7,\n",
        "            popup=str(row.name)\n",
        "        ).add_to(m)\n",
        "\n",
        "    # Add title and count\n",
        "    title_html = f'''\n",
        "        <div style=\"position: fixed;\n",
        "                    top: 10px;\n",
        "                    left: 50px;\n",
        "                    z-index: 1000;\n",
        "                    background-color: white;\n",
        "                    padding: 10px;\n",
        "                    border-radius: 5px;\">\n",
        "            <h4>{title}</h4>\n",
        "            Points outside: {len(points_outside)}\n",
        "        </div>\n",
        "    '''\n",
        "    m.get_root().html.add_child(folium.Element(title_html))\n",
        "\n",
        "    # Fit map bounds to show all points with buffer\n",
        "    m.fit_bounds([[miny, minx], [maxy, maxx]], padding=[50, 50])\n",
        "\n",
        "    return m"
      ]
    },
    {
      "cell_type": "code",
      "execution_count": null,
      "metadata": {
        "id": "OdcwjMuDSNfE"
      },
      "outputs": [],
      "source": [
        "def show_plots_with_widgets(points_gdf, boundary_gdf, title_1, title_2, color=\"red\"):\n",
        "    \"\"\"\n",
        "    Display two maps side by side in a Jupyter notebook\n",
        "    \"\"\"\n",
        "    # Create both maps\n",
        "    map1 = plot_points(points_gdf, title=title_1, color=color)\n",
        "    map2 = plot_outside_points(points_gdf, boundary_gdf, title=title_2, color=color)\n",
        "    # Simple HTML to put maps side by side\n",
        "    display_html = f\"\"\"\n",
        "    <div style=\"display: flex; width: 100%;\">\n",
        "        <div style=\"width: 50%;\">\n",
        "            {map1._repr_html_()}\n",
        "        </div>\n",
        "        <div style=\"width: 50%;\">\n",
        "            {map2._repr_html_()}\n",
        "        </div>\n",
        "    </div>\n",
        "    \"\"\"\n",
        "    return HTML(display_html)"
      ]
    },
    {
      "cell_type": "markdown",
      "metadata": {
        "id": "3uBcxmUOSNfE"
      },
      "source": [
        "## Point of interest (POI) data"
      ]
    },
    {
      "cell_type": "markdown",
      "source": [
        "First we notice that some schools have been provided to OpenStreetMap as polyons. To simplify our analysis, we convert those polygons to points, by selectin the centroid of each polygon."
      ],
      "metadata": {
        "id": "hQOne54HOdH6"
      }
    },
    {
      "cell_type": "code",
      "execution_count": null,
      "metadata": {
        "id": "uCQL6jHvSNfE"
      },
      "outputs": [],
      "source": [
        "algeria_schools_gdf.geometry.type.value_counts()"
      ]
    },
    {
      "cell_type": "code",
      "execution_count": null,
      "metadata": {
        "id": "pE2vGkUWSNfE"
      },
      "outputs": [],
      "source": [
        "algeria_schools_gdf.geometry = algeria_schools_gdf.geometry.centroid"
      ]
    },
    {
      "cell_type": "markdown",
      "source": [
        "We can see that 5 schools have mistakenly been placed on the Mediterranean sea.\n"
      ],
      "metadata": {
        "id": "H7NIEnZiOtHt"
      }
    },
    {
      "cell_type": "code",
      "execution_count": null,
      "metadata": {
        "id": "36uAAgCCSNfE"
      },
      "outputs": [],
      "source": [
        "show_plots_with_widgets(algeria_schools_gdf, algeria, \"Schools\", \"Schools outside borders\", color=colors[\"schools\"])"
      ]
    },
    {
      "cell_type": "markdown",
      "metadata": {
        "id": "Bh8170JgSNfF"
      },
      "source": [
        "## Cell site data"
      ]
    },
    {
      "cell_type": "code",
      "execution_count": null,
      "metadata": {
        "id": "t-nc8HX6SNfF"
      },
      "outputs": [],
      "source": [
        "algeria_cell_sites_gdf.geometry.type.value_counts()"
      ]
    },
    {
      "cell_type": "markdown",
      "source": [
        "We can see that 17 cell sites have been placed on the Mediterranean sea as well."
      ],
      "metadata": {
        "id": "YkYVHDKSPcSM"
      }
    },
    {
      "cell_type": "code",
      "execution_count": null,
      "metadata": {
        "id": "KYv2_aFaSNfF"
      },
      "outputs": [],
      "source": [
        "show_plots_with_widgets(algeria_cell_sites_gdf, algeria, \"Cell sites\", \"Cell sites outside borders\", color=colors[\"cell_sites\"])"
      ]
    },
    {
      "cell_type": "markdown",
      "metadata": {
        "id": "8Gb1vHuNSNfG"
      },
      "source": [
        "## Transmission node data"
      ]
    },
    {
      "cell_type": "code",
      "execution_count": null,
      "metadata": {
        "id": "N0CgFNapSNfH"
      },
      "outputs": [],
      "source": [
        "algeria_nodes_gdf.geometry.type.value_counts()"
      ]
    },
    {
      "cell_type": "markdown",
      "source": [
        "We can see that one transmission node is on the Moroccan border, and one is in the sea. We decide to keep these in the data."
      ],
      "metadata": {
        "id": "6w3NTp6lPzrA"
      }
    },
    {
      "cell_type": "code",
      "execution_count": null,
      "metadata": {
        "id": "LH8ZtJxxSNfH"
      },
      "outputs": [],
      "source": [
        "show_plots_with_widgets(algeria_nodes_gdf, algeria, \"Transmission nodes\", \"Transmission nodes outside borders\", color=colors[\"nodes\"])"
      ]
    },
    {
      "cell_type": "markdown",
      "metadata": {
        "id": "jS-DJ4BbSNfH"
      },
      "source": [
        "## Mobile coverage"
      ]
    },
    {
      "cell_type": "markdown",
      "source": [
        "Next, we need to clip the mobile coverage data we produced by extracting speed test data from Ookla. Since this was obtained using a bounding box, some of the tiles can be from neighbouring countries."
      ],
      "metadata": {
        "id": "ymvydCpuQWPN"
      }
    },
    {
      "cell_type": "code",
      "execution_count": null,
      "metadata": {
        "id": "mia47JW5SNfH"
      },
      "outputs": [],
      "source": [
        "def plot_coverage(gdf, title=\"Mobile Coverage\", fill_color=\"#1f77b4\", alpha=0.6):\n",
        "    \"\"\"\n",
        "    Plot coverage polygons with a basemap\n",
        "    Parameters:\n",
        "    gdf : GeoDataFrame with polygon geometry\n",
        "    title : str, plot title\n",
        "    fill_color : str, color for polygons (hex code or name)\n",
        "    alpha : float, transparency level (0 to 1)\n",
        "    \"\"\"\n",
        "    # Create figure\n",
        "    fig, ax = plt.subplots(figsize=(8, 8))\n",
        "\n",
        "    # Plot the geodataframe\n",
        "    gdf.plot(\n",
        "        ax=ax,\n",
        "        color=fill_color,\n",
        "        alpha=alpha,\n",
        "        edgecolor='white',\n",
        "        linewidth=0.5\n",
        "    )\n",
        "\n",
        "    # Add basemap\n",
        "    cx.add_basemap(\n",
        "        ax,\n",
        "        crs=gdf.crs,\n",
        "        source=cx.providers.CartoDB.DarkMatter\n",
        "    )\n",
        "\n",
        "    # Style the plot\n",
        "    plt.title(title, pad=20, fontsize=16)\n",
        "    ax.axis('off')\n",
        "\n",
        "    # Add a text box with coverage area count\n",
        "    stats_text = f'Coverage Areas: {len(gdf)}'\n",
        "    plt.figtext(\n",
        "        0.02, 0.02, stats_text,\n",
        "        bbox=dict(facecolor='white', alpha=0.7),\n",
        "        fontsize=12\n",
        "    )\n",
        "\n",
        "    plt.tight_layout()\n",
        "    plt.show()"
      ]
    },
    {
      "cell_type": "code",
      "execution_count": null,
      "metadata": {
        "id": "JoNk71kRSNfH"
      },
      "outputs": [],
      "source": [
        "def clip_coverage(coverage_gdf, boundary_gdf):\n",
        "    \"\"\"\n",
        "    Clip coverage polygons to boundary and optionally show before/after plots\n",
        "\n",
        "    Parameters:\n",
        "    coverage_gdf : GeoDataFrame with coverage polygons\n",
        "    boundary_gdf : GeoDataFrame with country boundary\n",
        "\n",
        "    Returns:\n",
        "    GeoDataFrame with clipped coverage polygons\n",
        "    \"\"\"\n",
        "    # Ensure same CRS\n",
        "    if coverage_gdf.crs != boundary_gdf.crs:\n",
        "        coverage_gdf = coverage_gdf.to_crs(boundary_gdf.crs)\n",
        "\n",
        "    # Perform the clip operation\n",
        "    clipped_coverage = gpd.clip(coverage_gdf, boundary_gdf)\n",
        "\n",
        "    return clipped_coverage"
      ]
    },
    {
      "cell_type": "code",
      "execution_count": null,
      "metadata": {
        "id": "zSn5ivMNSNfH"
      },
      "outputs": [],
      "source": [
        "def show_coverage_plots_with_widgets(coverage_gdf, boundary_gdf, fig1_title=\"Coverage\", fig2_title=\"Clipped Coverage\"):\n",
        "    # Create tab widget\n",
        "    tab = widgets.Tab()\n",
        "\n",
        "    # Create output widgets for each plot\n",
        "    out1 = widgets.Output()\n",
        "    out2 = widgets.Output()\n",
        "\n",
        "    # Set tab contents\n",
        "    tab.children = [out1, out2]\n",
        "\n",
        "    # Set tab titles\n",
        "    tab.set_title(0, fig1_title)\n",
        "    tab.set_title(1, fig2_title)\n",
        "\n",
        "    # Display plots in respective tabs\n",
        "    with out1:\n",
        "        plot_coverage(coverage_gdf, title=fig1_title)\n",
        "    with out2:\n",
        "        clipped_coverage = clip_coverage(coverage_gdf, boundary_gdf)\n",
        "        plot_coverage(clipped_coverage, title=fig2_title)\n",
        "\n",
        "    display(tab)"
      ]
    },
    {
      "cell_type": "code",
      "execution_count": null,
      "metadata": {
        "id": "khwTdfUSSNfH"
      },
      "outputs": [],
      "source": [
        "algeria_clipped_mobile_coverage_gdf = clip_coverage(algeria_mobile_coverage_gdf, algeria)"
      ]
    },
    {
      "cell_type": "code",
      "execution_count": null,
      "metadata": {
        "id": "u6DrZC4YSNfH"
      },
      "outputs": [],
      "source": [
        "show_coverage_plots_with_widgets(algeria_mobile_coverage_gdf, algeria, \"Mobile coverage\", \"Clipped mobile coverage\")"
      ]
    },
    {
      "cell_type": "markdown",
      "metadata": {
        "id": "hwGZPsKLSNfI"
      },
      "source": [
        "# Standardize data"
      ]
    },
    {
      "cell_type": "markdown",
      "source": [
        "Finally, we standardize all our data into a consistent format, following the [ITU data dictionaries](https://bbmaps.itu.int/geonetwork/srv/eng/catalog.search;jsessionid=4BB00A9A95D58DCCAAD3967DC2DEA0E0#/metadata/d4fce2b9-ed20-4a3e-9312-4f04e1a384ad) for infrastructure data.\n",
        "1. Create unified schemas for each infrastructure type (POIs, cell sites, nodes, coverage)\n",
        "2. Generate unique IDs for each feature, using UUIDs (Universally Unique Identifier). These are long serial numbers that are almost guaranteed to be unique every time we generate them.\n",
        "3. Transform data to match standard schemas\n",
        "4. Save standardized data to CSV/GeoJSON files\n",
        "\n",
        "This standardization makes it easier to:\n",
        "- Share data with other analysts\n",
        "- Perform consistent analysis across different regions and projects"
      ],
      "metadata": {
        "id": "2GenJT8zRPYF"
      }
    },
    {
      "cell_type": "code",
      "execution_count": null,
      "metadata": {
        "id": "EYttIqN6SNfI"
      },
      "outputs": [],
      "source": [
        "def extract_lat_lon(gdf, id_column='id'):\n",
        "   \"\"\"\n",
        "   Create a new dataframe with latitude, longitude and UUID columns\n",
        "   \"\"\"\n",
        "   df = pd.DataFrame({\n",
        "       id_column: [str(uuid.uuid4()) for _ in range(len(gdf))],\n",
        "       'dataset_id': str(uuid.uuid4()),\n",
        "       'lat': gdf.geometry.y,\n",
        "       'lon': gdf.geometry.x\n",
        "   })\n",
        "   return df"
      ]
    },
    {
      "cell_type": "markdown",
      "metadata": {
        "id": "_Wf3x_iRSNfI"
      },
      "source": [
        "## Point of interest (POI) data"
      ]
    },
    {
      "cell_type": "code",
      "execution_count": null,
      "metadata": {
        "id": "9XA1y75jSNfI"
      },
      "outputs": [],
      "source": [
        "poi_metadata = pd.DataFrame({\n",
        "   'column_name': ['poi_id', 'dataset_id', 'lat', 'lon', 'poi_type', 'is_public', 'poi_subtype', 'country_code', 'is_connected', 'connectivity_type'],\n",
        "   'column_type': ['UUID', 'UUID', 'float', 'float', 'string', 'boolean', 'string', 'string', 'boolean', 'string'],\n",
        "   'levels': [''] * 10,\n",
        "   'example': ['123e4567-e89b-12d3-a456-426614174000', '987fcdeb-51a2-12d3-a456-426614174000', '36.7538', '3.0588', 'school', 'True', 'primary school', 'DZA', 'True', '4G'],\n",
        "   'mandatory': ['Yes', 'Yes', 'Yes', 'Yes', 'Yes', 'No', 'No', 'Yes', 'No', 'No'],\n",
        "   'definition': [\n",
        "       'Unique identifier for the POI',\n",
        "       'Unique identifier for the dataset',\n",
        "       'Latitude coordinate',\n",
        "       'Longitude coordinate',\n",
        "       'Type of point of interest',\n",
        "       'Whether the POI is public or private',\n",
        "       'Specific subtype of the POI',\n",
        "       'ISO 3166-1 alpha-3 country code',\n",
        "       'Whether the POI has connectivity',\n",
        "       'Type of internet connectivity'\n",
        "   ]\n",
        "})\n",
        "styled_df = poi_metadata.style.set_properties(**{\n",
        "   'text-align': 'left',\n",
        "   'border': '1px solid black',\n",
        "   'padding': '8px'\n",
        "}).set_table_styles([\n",
        "   {'selector': 'thead', 'props': [('background-color', '#f2f2f2'), ('font-weight', 'bold'), ('border-bottom', '2px solid black')]},\n",
        "   {'selector': 'tbody tr:nth-of-type(odd)', 'props': [('background-color', '#f9f9f9')]}\n",
        "])\n",
        "display(styled_df)"
      ]
    },
    {
      "cell_type": "code",
      "execution_count": null,
      "metadata": {
        "id": "ZGv9Mdt_SNfI"
      },
      "outputs": [],
      "source": [
        "# Create blank dataframe with id, latitute and longitude columns\n",
        "formatted_algeria_schools = extract_lat_lon(algeria_schools_gdf, id_column='poi_id')\n",
        "\n",
        "# Fill in other columns\n",
        "formatted_algeria_schools[\"country_code\"] = algeria_iso3\n",
        "formatted_algeria_schools[\"poi_type\"] = \"school\"\n",
        "formatted_algeria_schools[\"is_connected\"] = False"
      ]
    },
    {
      "cell_type": "code",
      "execution_count": null,
      "metadata": {
        "id": "9A1x1I_eSNfI"
      },
      "outputs": [],
      "source": [
        "data_table.DataTable(formatted_algeria_schools, num_rows_per_page=10)"
      ]
    },
    {
      "cell_type": "markdown",
      "metadata": {
        "id": "pkzgkvAASNfJ"
      },
      "source": [
        "## Cell site data"
      ]
    },
    {
      "cell_type": "code",
      "execution_count": null,
      "metadata": {
        "id": "5oZO5kIGSNfJ"
      },
      "outputs": [],
      "source": [
        "cell_metadata = pd.DataFrame({\n",
        "   'column_name': ['ict_id', 'dataset_id', 'latitude', 'longitude', 'operator_name', 'radio_type', 'antenna_height_m', 'backhaul_type', 'backhaul_throughput_mbps'],\n",
        "   'column_type': ['UUID', 'UUID', 'float', 'float', 'string', 'string', 'float', 'string', 'float'],\n",
        "   'levels': [\n",
        "       '',  # ict_id\n",
        "       '',  # dataset_id\n",
        "       '',  # latitude\n",
        "       '',  # longitude\n",
        "       '',  # operator_name\n",
        "       'LTE, UMTS, GSM, CDMA',  # radio_type\n",
        "       '',  # antenna_height_m\n",
        "       'fiber, microwave, satellite',  # backhaul_type\n",
        "       ''   # backhaul_throughput_mbps\n",
        "   ],\n",
        "   'example': ['123e4567-e89b-12d3-a456-426614174000', '987fcdeb-51a2-12d3-a456-426614174000', '38.988755', '1.401938', 'TelOperator', 'LTE', '25', 'fiber', '1000'],\n",
        "   'mandatory': ['Yes', 'Yes', 'Yes', 'Yes', 'No', 'Yes', 'Yes', 'No', 'No'],\n",
        "   'definition': [\n",
        "       'Cell tower identifier',\n",
        "       'Unique identifier for the dataset',\n",
        "       'Cell tower geographical latitude',\n",
        "       'Cell tower geographical longitude',\n",
        "       'Mobile network operator name',\n",
        "       'Type of radio transmission technology',\n",
        "       'Antenna height on the tower or building',\n",
        "       'Type of backhaul connectivity of the cell tower',\n",
        "       'Equipped throughput of the backhaul'\n",
        "   ]\n",
        "})\n",
        "styled_df = cell_metadata.style.set_properties(**{\n",
        "   'text-align': 'left',\n",
        "   'border': '1px solid black',\n",
        "   'padding': '8px'\n",
        "}).set_table_styles([\n",
        "   {'selector': 'thead', 'props': [('background-color', '#f2f2f2'), ('font-weight', 'bold'), ('border-bottom', '2px solid black')]},\n",
        "   {'selector': 'tbody tr:nth-of-type(odd)', 'props': [('background-color', '#f9f9f9')]}\n",
        "])\n",
        "display(styled_df)"
      ]
    },
    {
      "cell_type": "code",
      "execution_count": null,
      "metadata": {
        "id": "yKbBulzLSNfJ"
      },
      "outputs": [],
      "source": [
        "algeria_cell_sites_gdf[\"radio\"].value_counts()"
      ]
    },
    {
      "cell_type": "markdown",
      "source": [
        "We assume that each antenna height is 25 meters."
      ],
      "metadata": {
        "id": "GgZdpabzR8ZJ"
      }
    },
    {
      "cell_type": "code",
      "execution_count": null,
      "metadata": {
        "id": "E3DoJawCSNfJ"
      },
      "outputs": [],
      "source": [
        "# Create blank dataframe with id, latitute and longitude columns\n",
        "formatted_algeria_cell_sites = extract_lat_lon(algeria_cell_sites_gdf, id_column='ict_id')\n",
        "\n",
        "# Fill in other columns\n",
        "formatted_algeria_cell_sites[\"radio_type\"] = algeria_cell_sites_gdf[\"radio\"]\n",
        "formatted_algeria_cell_sites[\"antenna_height_m\"] = 25\n",
        "formatted_algeria_cell_sites[\"backhaul_type\"] = pd.NA\n",
        "formatted_algeria_cell_sites[\"backhaul_throughput_mbps\"] = pd.NA\n",
        "formatted_algeria_cell_sites[\"operator_name\"] = pd.NA"
      ]
    },
    {
      "cell_type": "code",
      "execution_count": null,
      "metadata": {
        "id": "mNnNH3o-SNfJ"
      },
      "outputs": [],
      "source": [
        "data_table.DataTable(formatted_algeria_schools, num_rows_per_page=10)"
      ]
    },
    {
      "cell_type": "markdown",
      "metadata": {
        "id": "KOhUPjdTSNfK"
      },
      "source": [
        "## Transmission node data"
      ]
    },
    {
      "cell_type": "code",
      "execution_count": null,
      "metadata": {
        "id": "kx0puaY4SNfK"
      },
      "outputs": [],
      "source": [
        "node_metadata = pd.DataFrame({\n",
        "   'column_name': ['ict_id', 'dataset_id', 'latitude', 'longitude', 'operator_name', 'infrastructure_type', 'node_status', 'equipped_capacity_mbps', 'potential_capacity_mbps'],\n",
        "   'column_type': ['UUID', 'UUID', 'float', 'float', 'string', 'string', 'string', 'float', 'float'],\n",
        "   'levels': [\n",
        "       '',  # node_id\n",
        "       '',  # dataset_id\n",
        "       '',  # latitude\n",
        "       '',  # longitude\n",
        "       '',  # operator_name\n",
        "       'fiber, microwave, other',  # infrastructure_type\n",
        "       'operational, planned, under construction',  # node_status\n",
        "       '',  # equipped_capacity_mbps\n",
        "       ''   # potential_capacity_mbps\n",
        "   ],\n",
        "   'example': ['123e4567-e89b-12d3-a456-426614174000', '987fcdeb-51a2-12d3-a456-426614174000', '38.988755', '1.401938', 'TelOperator', 'fiber', 'operational', '1000', '2000'],\n",
        "   'mandatory': ['Yes', 'Yes', 'Yes', 'Yes', 'No', 'Yes', 'Yes', 'No', 'No'],\n",
        "   'definition': [\n",
        "       'Node identifier',\n",
        "       'Unique identifier for the dataset',\n",
        "       'Geographical latitude',\n",
        "       'Geographical longitude',\n",
        "       'Name of the mobile operator',\n",
        "       'Type of Infrastructure',\n",
        "       'Status of the node',\n",
        "       'Equipped bandwidth ready for use to connect subscribers',\n",
        "       'Total theoretical bandwidth available for subscriber connections'\n",
        "   ]\n",
        "})\n",
        "\n",
        "styled_df = node_metadata.style.set_properties(**{\n",
        "   'text-align': 'left',\n",
        "   'border': '1px solid black',\n",
        "   'padding': '8px'\n",
        "}).set_table_styles([\n",
        "   {'selector': 'thead', 'props': [('background-color', '#f2f2f2'), ('font-weight', 'bold'), ('border-bottom', '2px solid black')]},\n",
        "   {'selector': 'tbody tr:nth-of-type(odd)', 'props': [('background-color', '#f9f9f9')]}\n",
        "])\n",
        "display(styled_df)"
      ]
    },
    {
      "cell_type": "code",
      "execution_count": null,
      "metadata": {
        "id": "rNG3hM1LSNfK"
      },
      "outputs": [],
      "source": [
        "algeria_nodes_gdf[\"type_infr\"].value_counts()"
      ]
    },
    {
      "cell_type": "markdown",
      "source": [
        "All our points are fiber nodes, and we assume that they are all operational."
      ],
      "metadata": {
        "id": "AZcl7MUPSJT6"
      }
    },
    {
      "cell_type": "code",
      "execution_count": null,
      "metadata": {
        "id": "Q4iNwXEbSNfK"
      },
      "outputs": [],
      "source": [
        "# Create blank dataframe with id, latitute and longitude columns\n",
        "formatted_algeria_nodes = extract_lat_lon(algeria_nodes_gdf, id_column='ict_id')\n",
        "\n",
        "# Fill in other columns\n",
        "formatted_algeria_nodes[\"operator_name\"] = pd.NA\n",
        "formatted_algeria_nodes[\"infrastructure_type\"] = \"fiber\"\n",
        "formatted_algeria_nodes[\"node_status\"] = \"operational\"\n",
        "formatted_algeria_nodes[\"equipped_capacity_mbps\"] = pd.NA\n",
        "formatted_algeria_nodes[\"potential_capacity_mbps\"] = pd.NA"
      ]
    },
    {
      "cell_type": "code",
      "execution_count": null,
      "metadata": {
        "id": "DR3XJ66vSNfK"
      },
      "outputs": [],
      "source": [
        "data_table.DataTable(formatted_algeria_schools, num_rows_per_page=10)"
      ]
    },
    {
      "cell_type": "markdown",
      "metadata": {
        "id": "ADQeR2AnSNfK"
      },
      "source": [
        "## Mobile coverage"
      ]
    },
    {
      "cell_type": "code",
      "execution_count": null,
      "metadata": {
        "id": "cljZ7Dn7SNfL"
      },
      "outputs": [],
      "source": [
        "coverage_metadata = pd.DataFrame({\n",
        "   'column_name': ['coverage_id', 'dataset_id', 'signal_strength_dbm', 'operator_name', 'geometry', 'coverage'],\n",
        "   'column_type': ['UUID', 'UUID', 'float', 'string', 'geometry', 'integer'],\n",
        "   'levels': [\n",
        "       '',  # coverage_id\n",
        "       '',  # dataset_id\n",
        "       '',  # signal_strength\n",
        "       '',  # operator_name\n",
        "       'polygon',  # geometry\n",
        "       '1'\n",
        "   ],\n",
        "   'example': [\n",
        "       '123e4567-e89b-12d3-a456-426614174000',\n",
        "       '987fcdeb-51a2-12d3-a456-426614174000',\n",
        "       '-93',\n",
        "       'TelOperator',\n",
        "       'POLYGON((...))',\n",
        "       '1'\n",
        "   ],\n",
        "   'mandatory': ['Yes', 'Yes', 'Yes', 'No', 'Yes', 'Yes'],\n",
        "   'definition': [\n",
        "       'Unique identifier for the coverage area',\n",
        "       'Unique identifier for the dataset',\n",
        "       'Mobile signal strength in dBm for coverage',\n",
        "       'Name of the mobile operator',\n",
        "       'Polygon geometry of coverage area',\n",
        "       'Binary value indicating coverage'\n",
        "   ]\n",
        "})\n",
        "\n",
        "styled_df = coverage_metadata.style.set_properties(**{\n",
        "   'text-align': 'left',\n",
        "   'border': '1px solid black',\n",
        "   'padding': '8px'\n",
        "}).set_table_styles([\n",
        "   {'selector': 'thead', 'props': [('background-color', '#f2f2f2'), ('font-weight', 'bold'), ('border-bottom', '2px solid black')]},\n",
        "   {'selector': 'tbody tr:nth-of-type(odd)', 'props': [('background-color', '#f9f9f9')]}\n",
        "])\n",
        "display(styled_df)"
      ]
    },
    {
      "cell_type": "code",
      "execution_count": null,
      "metadata": {
        "id": "WylWNLHoSNfL"
      },
      "outputs": [],
      "source": [
        "# Create blank dataframe with id, latitute and longitude columns\n",
        "formatted_algeria_coverage = algeria_clipped_mobile_coverage_gdf\n",
        "\n",
        "# Fill in other columns\n",
        "formatted_algeria_coverage[\"coverage\"] = 1\n",
        "formatted_algeria_coverage[\"signal_strength_dbm\"] = pd.NA\n",
        "formatted_algeria_coverage[\"operator_name\"] = pd.NA\n",
        "formatted_algeria_coverage[\"coverage_id\"] = [str(uuid.uuid4()) for _ in range(len(formatted_algeria_coverage))]\n",
        "formatted_algeria_coverage[\"dataset_id\"] = str(uuid.uuid4())"
      ]
    },
    {
      "cell_type": "code",
      "execution_count": null,
      "metadata": {
        "id": "yKFS_M1iSNfL"
      },
      "outputs": [],
      "source": [
        "formatted_algeria_coverage"
      ]
    }
  ],
  "metadata": {
    "kernelspec": {
      "display_name": "inframaptraining",
      "language": "python",
      "name": "python3"
    },
    "language_info": {
      "codemirror_mode": {
        "name": "ipython",
        "version": 3
      },
      "file_extension": ".py",
      "mimetype": "text/x-python",
      "name": "python",
      "nbconvert_exporter": "python",
      "pygments_lexer": "ipython3",
      "version": "3.9.18"
    },
    "colab": {
      "provenance": [],
      "toc_visible": true,
      "include_colab_link": true
    }
  },
  "nbformat": 4,
  "nbformat_minor": 0
}